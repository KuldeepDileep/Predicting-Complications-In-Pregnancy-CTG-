{
  "nbformat": 4,
  "nbformat_minor": 0,
  "metadata": {
    "colab": {
      "name": "LogisticRegressionTest.ipynb",
      "provenance": [],
      "collapsed_sections": [],
      "toc_visible": true
    },
    "kernelspec": {
      "name": "python3",
      "display_name": "Python 3"
    },
    "accelerator": "GPU"
  },
  "cells": [
    {
      "cell_type": "code",
      "metadata": {
        "id": "WkiYKPXbtZR0",
        "colab_type": "code",
        "colab": {}
      },
      "source": [
        "import tensorflow \n",
        "from tensorflow.keras.models import Sequential\n",
        "from tensorflow.keras.layers import Dense, Conv2D, MaxPool2D , Flatten, GlobalAveragePooling2D, Activation, Reshape, LeakyReLU, Dropout\n",
        "from tensorflow.keras import optimizers\n",
        "from tensorflow.keras import regularizers\n",
        "from sklearn import svm\n",
        "from sklearn import metrics\n",
        "from sklearn.metrics import f1_score, accuracy_score\n",
        "import numpy as np\n",
        "import matplotlib.pyplot as plt\n",
        "import pandas as pd\n",
        "import cv2\n",
        "import os"
      ],
      "execution_count": 28,
      "outputs": []
    },
    {
      "cell_type": "code",
      "metadata": {
        "id": "tglvlpPMt4s3",
        "colab_type": "code",
        "colab": {}
      },
      "source": [
        "feat_num = 21\n",
        "classes = 3\n",
        "\n",
        "# load data from df to arrays to train and test\n",
        "\n",
        "def xls2df(df, N, split=0.8):\n",
        "    # strings of feature names for reference\n",
        "    # of 21 features\n",
        "    feat_num = 21\n",
        "    classes = 3\n",
        "    feature_names = np.array([data[i][0] for i in range(1, feat_num+classes)])\n",
        "    \n",
        "    # load all data\n",
        "    all_data = np.array([[data[i][j] for i in range(1, feat_num+1)]\n",
        "                                     for j in range(1, N+1)])\n",
        "    # load all labels\n",
        "    all_labels = np.array([data[23][i] for i in range(1, N+1)])\n",
        "    \n",
        "    # shuffle indices so that no class gets huddled together\n",
        "    idxs = [i for i in range(N)]\n",
        "    np.random.shuffle(idxs)\n",
        "    all_data = all_data[idxs]\n",
        "    all_labels = all_labels[idxs]\n",
        "    \n",
        "    # split into 80: 20 for test: train data\n",
        "    train_num = int(N*split)\n",
        "\n",
        "    # load train data\n",
        "    train_data = all_data[:train_num]\n",
        "    \n",
        "    # load train labels\n",
        "    train_labels = all_labels[:train_num]\n",
        "    \n",
        "    # load test data\n",
        "    test_data = all_data[train_num:]\n",
        "    \n",
        "    # load test labels\n",
        "    test_labels = all_labels[train_num:]\n",
        "    \n",
        "    return train_data, train_labels, test_data, test_labels"
      ],
      "execution_count": 3,
      "outputs": []
    },
    {
      "cell_type": "markdown",
      "metadata": {
        "id": "0-BsB2GXtskF",
        "colab_type": "text"
      },
      "source": [
        "#Test on original dataset"
      ]
    },
    {
      "cell_type": "code",
      "metadata": {
        "id": "FnBigT9QtrSQ",
        "colab_type": "code",
        "colab": {}
      },
      "source": [
        "# load data\n",
        "xls = pd.ExcelFile('../CTG.xls')\n",
        "data = pd.read_excel(xls, 'Data')\n",
        "\n",
        "x_train, y_train, x_test, y_test = xls2df(data, 2126)\n",
        "y_train = y_train-1\n",
        "y_test = y_test - 1"
      ],
      "execution_count": 31,
      "outputs": []
    },
    {
      "cell_type": "code",
      "metadata": {
        "id": "0kG8nhqmuDeF",
        "colab_type": "code",
        "colab": {}
      },
      "source": [
        "lrmodel = Sequential()\n",
        "\n",
        "lrmodel.add(Dense(3, activation=\"softmax\"))"
      ],
      "execution_count": 13,
      "outputs": []
    },
    {
      "cell_type": "code",
      "metadata": {
        "id": "gQcAJs28uFgi",
        "colab_type": "code",
        "colab": {
          "base_uri": "https://localhost:8080/",
          "height": 1000
        },
        "outputId": "327eee6c-bc74-465a-9251-c38d3ba8f653"
      },
      "source": [
        "lrmodel.compile(optimizer=\"adam\", loss='sparse_categorical_crossentropy',\n",
        "              metrics=['accuracy'])\n",
        "hist = lrmodel.fit(x_train, y_train, batch_size=128, epochs=100, validation_data=(x_test, y_test))"
      ],
      "execution_count": 14,
      "outputs": [
        {
          "output_type": "stream",
          "text": [
            "Epoch 1/100\n",
            "14/14 [==============================] - 0s 11ms/step - loss: 14.0097 - accuracy: 0.7865 - val_loss: 11.4076 - val_accuracy: 0.7629\n",
            "Epoch 2/100\n",
            "14/14 [==============================] - 0s 5ms/step - loss: 9.0358 - accuracy: 0.7382 - val_loss: 7.5539 - val_accuracy: 0.6526\n",
            "Epoch 3/100\n",
            "14/14 [==============================] - 0s 5ms/step - loss: 7.3163 - accuracy: 0.6159 - val_loss: 6.8541 - val_accuracy: 0.5986\n",
            "Epoch 4/100\n",
            "14/14 [==============================] - 0s 5ms/step - loss: 6.5443 - accuracy: 0.6271 - val_loss: 6.1604 - val_accuracy: 0.6596\n",
            "Epoch 5/100\n",
            "14/14 [==============================] - 0s 5ms/step - loss: 5.7611 - accuracy: 0.6671 - val_loss: 5.3517 - val_accuracy: 0.6526\n",
            "Epoch 6/100\n",
            "14/14 [==============================] - 0s 5ms/step - loss: 4.9652 - accuracy: 0.6500 - val_loss: 4.5785 - val_accuracy: 0.6455\n",
            "Epoch 7/100\n",
            "14/14 [==============================] - 0s 5ms/step - loss: 4.2540 - accuracy: 0.6441 - val_loss: 3.8969 - val_accuracy: 0.6526\n",
            "Epoch 8/100\n",
            "14/14 [==============================] - 0s 4ms/step - loss: 3.5644 - accuracy: 0.6606 - val_loss: 3.2971 - val_accuracy: 0.6455\n",
            "Epoch 9/100\n",
            "14/14 [==============================] - 0s 5ms/step - loss: 3.0062 - accuracy: 0.6653 - val_loss: 2.8074 - val_accuracy: 0.6854\n",
            "Epoch 10/100\n",
            "14/14 [==============================] - 0s 4ms/step - loss: 2.5937 - accuracy: 0.6924 - val_loss: 2.4706 - val_accuracy: 0.6808\n",
            "Epoch 11/100\n",
            "14/14 [==============================] - 0s 4ms/step - loss: 2.3103 - accuracy: 0.7065 - val_loss: 2.2314 - val_accuracy: 0.7066\n",
            "Epoch 12/100\n",
            "14/14 [==============================] - 0s 5ms/step - loss: 2.1106 - accuracy: 0.7206 - val_loss: 2.0540 - val_accuracy: 0.7230\n",
            "Epoch 13/100\n",
            "14/14 [==============================] - 0s 4ms/step - loss: 1.9709 - accuracy: 0.7406 - val_loss: 1.9279 - val_accuracy: 0.7347\n",
            "Epoch 14/100\n",
            "14/14 [==============================] - 0s 4ms/step - loss: 1.8584 - accuracy: 0.7494 - val_loss: 1.8323 - val_accuracy: 0.7465\n",
            "Epoch 15/100\n",
            "14/14 [==============================] - 0s 5ms/step - loss: 1.7661 - accuracy: 0.7688 - val_loss: 1.7543 - val_accuracy: 0.7629\n",
            "Epoch 16/100\n",
            "14/14 [==============================] - 0s 5ms/step - loss: 1.7079 - accuracy: 0.7718 - val_loss: 1.6990 - val_accuracy: 0.7700\n",
            "Epoch 17/100\n",
            "14/14 [==============================] - 0s 4ms/step - loss: 1.6382 - accuracy: 0.7747 - val_loss: 1.6396 - val_accuracy: 0.7676\n",
            "Epoch 18/100\n",
            "14/14 [==============================] - 0s 4ms/step - loss: 1.6118 - accuracy: 0.7688 - val_loss: 1.5975 - val_accuracy: 0.7793\n",
            "Epoch 19/100\n",
            "14/14 [==============================] - 0s 4ms/step - loss: 1.5599 - accuracy: 0.7806 - val_loss: 1.5309 - val_accuracy: 0.7817\n",
            "Epoch 20/100\n",
            "14/14 [==============================] - 0s 5ms/step - loss: 1.4971 - accuracy: 0.7841 - val_loss: 1.4845 - val_accuracy: 0.7817\n",
            "Epoch 21/100\n",
            "14/14 [==============================] - 0s 4ms/step - loss: 1.4569 - accuracy: 0.7871 - val_loss: 1.4570 - val_accuracy: 0.7817\n",
            "Epoch 22/100\n",
            "14/14 [==============================] - 0s 6ms/step - loss: 1.4219 - accuracy: 0.7912 - val_loss: 1.4136 - val_accuracy: 0.7817\n",
            "Epoch 23/100\n",
            "14/14 [==============================] - 0s 6ms/step - loss: 1.3836 - accuracy: 0.7929 - val_loss: 1.3738 - val_accuracy: 0.7911\n",
            "Epoch 24/100\n",
            "14/14 [==============================] - 0s 5ms/step - loss: 1.3542 - accuracy: 0.7947 - val_loss: 1.3379 - val_accuracy: 0.7958\n",
            "Epoch 25/100\n",
            "14/14 [==============================] - 0s 6ms/step - loss: 1.3177 - accuracy: 0.7971 - val_loss: 1.2952 - val_accuracy: 0.7934\n",
            "Epoch 26/100\n",
            "14/14 [==============================] - 0s 5ms/step - loss: 1.2921 - accuracy: 0.7888 - val_loss: 1.2685 - val_accuracy: 0.7887\n",
            "Epoch 27/100\n",
            "14/14 [==============================] - 0s 5ms/step - loss: 1.2488 - accuracy: 0.8000 - val_loss: 1.2394 - val_accuracy: 0.7981\n",
            "Epoch 28/100\n",
            "14/14 [==============================] - 0s 5ms/step - loss: 1.2271 - accuracy: 0.7988 - val_loss: 1.1995 - val_accuracy: 0.8005\n",
            "Epoch 29/100\n",
            "14/14 [==============================] - 0s 4ms/step - loss: 1.2037 - accuracy: 0.8024 - val_loss: 1.1872 - val_accuracy: 0.7981\n",
            "Epoch 30/100\n",
            "14/14 [==============================] - 0s 4ms/step - loss: 1.1680 - accuracy: 0.8000 - val_loss: 1.1546 - val_accuracy: 0.7700\n",
            "Epoch 31/100\n",
            "14/14 [==============================] - 0s 5ms/step - loss: 1.1513 - accuracy: 0.8006 - val_loss: 1.1172 - val_accuracy: 0.7887\n",
            "Epoch 32/100\n",
            "14/14 [==============================] - 0s 5ms/step - loss: 1.1199 - accuracy: 0.8041 - val_loss: 1.0869 - val_accuracy: 0.7958\n",
            "Epoch 33/100\n",
            "14/14 [==============================] - 0s 4ms/step - loss: 1.0990 - accuracy: 0.8012 - val_loss: 1.0618 - val_accuracy: 0.7887\n",
            "Epoch 34/100\n",
            "14/14 [==============================] - 0s 4ms/step - loss: 1.0836 - accuracy: 0.8035 - val_loss: 1.0406 - val_accuracy: 0.7958\n",
            "Epoch 35/100\n",
            "14/14 [==============================] - 0s 4ms/step - loss: 1.0517 - accuracy: 0.8059 - val_loss: 1.0174 - val_accuracy: 0.7840\n",
            "Epoch 36/100\n",
            "14/14 [==============================] - 0s 4ms/step - loss: 1.0329 - accuracy: 0.8041 - val_loss: 1.0046 - val_accuracy: 0.7934\n",
            "Epoch 37/100\n",
            "14/14 [==============================] - 0s 5ms/step - loss: 1.0196 - accuracy: 0.8012 - val_loss: 0.9991 - val_accuracy: 0.7958\n",
            "Epoch 38/100\n",
            "14/14 [==============================] - 0s 5ms/step - loss: 1.0031 - accuracy: 0.8012 - val_loss: 0.9633 - val_accuracy: 0.7911\n",
            "Epoch 39/100\n",
            "14/14 [==============================] - 0s 5ms/step - loss: 0.9804 - accuracy: 0.7959 - val_loss: 0.9416 - val_accuracy: 0.7958\n",
            "Epoch 40/100\n",
            "14/14 [==============================] - 0s 5ms/step - loss: 0.9650 - accuracy: 0.8012 - val_loss: 0.9398 - val_accuracy: 0.8028\n",
            "Epoch 41/100\n",
            "14/14 [==============================] - 0s 5ms/step - loss: 0.9576 - accuracy: 0.8041 - val_loss: 0.9162 - val_accuracy: 0.7887\n",
            "Epoch 42/100\n",
            "14/14 [==============================] - 0s 5ms/step - loss: 0.9348 - accuracy: 0.8041 - val_loss: 0.8927 - val_accuracy: 0.7981\n",
            "Epoch 43/100\n",
            "14/14 [==============================] - 0s 4ms/step - loss: 0.9266 - accuracy: 0.8018 - val_loss: 0.8962 - val_accuracy: 0.8028\n",
            "Epoch 44/100\n",
            "14/14 [==============================] - 0s 4ms/step - loss: 0.9447 - accuracy: 0.8053 - val_loss: 0.8624 - val_accuracy: 0.8005\n",
            "Epoch 45/100\n",
            "14/14 [==============================] - 0s 4ms/step - loss: 0.9179 - accuracy: 0.8071 - val_loss: 0.8542 - val_accuracy: 0.7981\n",
            "Epoch 46/100\n",
            "14/14 [==============================] - 0s 5ms/step - loss: 0.8944 - accuracy: 0.8076 - val_loss: 0.8339 - val_accuracy: 0.7981\n",
            "Epoch 47/100\n",
            "14/14 [==============================] - 0s 4ms/step - loss: 0.8788 - accuracy: 0.8118 - val_loss: 0.8245 - val_accuracy: 0.7770\n",
            "Epoch 48/100\n",
            "14/14 [==============================] - 0s 4ms/step - loss: 0.8680 - accuracy: 0.8041 - val_loss: 0.8300 - val_accuracy: 0.7723\n",
            "Epoch 49/100\n",
            "14/14 [==============================] - 0s 5ms/step - loss: 0.8535 - accuracy: 0.8106 - val_loss: 0.8012 - val_accuracy: 0.7864\n",
            "Epoch 50/100\n",
            "14/14 [==============================] - 0s 5ms/step - loss: 0.8430 - accuracy: 0.8088 - val_loss: 0.7823 - val_accuracy: 0.7793\n",
            "Epoch 51/100\n",
            "14/14 [==============================] - 0s 5ms/step - loss: 0.8381 - accuracy: 0.8106 - val_loss: 0.7879 - val_accuracy: 0.7981\n",
            "Epoch 52/100\n",
            "14/14 [==============================] - 0s 4ms/step - loss: 0.8263 - accuracy: 0.8100 - val_loss: 0.7659 - val_accuracy: 0.7723\n",
            "Epoch 53/100\n",
            "14/14 [==============================] - 0s 4ms/step - loss: 0.8308 - accuracy: 0.8012 - val_loss: 0.8334 - val_accuracy: 0.7606\n",
            "Epoch 54/100\n",
            "14/14 [==============================] - 0s 4ms/step - loss: 0.8329 - accuracy: 0.8076 - val_loss: 0.7414 - val_accuracy: 0.7700\n",
            "Epoch 55/100\n",
            "14/14 [==============================] - 0s 4ms/step - loss: 0.8116 - accuracy: 0.8053 - val_loss: 0.7562 - val_accuracy: 0.7911\n",
            "Epoch 56/100\n",
            "14/14 [==============================] - 0s 4ms/step - loss: 0.7965 - accuracy: 0.8224 - val_loss: 0.7249 - val_accuracy: 0.7793\n",
            "Epoch 57/100\n",
            "14/14 [==============================] - 0s 4ms/step - loss: 0.7961 - accuracy: 0.8171 - val_loss: 0.7467 - val_accuracy: 0.7793\n",
            "Epoch 58/100\n",
            "14/14 [==============================] - 0s 4ms/step - loss: 0.7921 - accuracy: 0.8153 - val_loss: 0.7386 - val_accuracy: 0.7606\n",
            "Epoch 59/100\n",
            "14/14 [==============================] - 0s 5ms/step - loss: 0.7866 - accuracy: 0.8035 - val_loss: 0.7133 - val_accuracy: 0.7676\n",
            "Epoch 60/100\n",
            "14/14 [==============================] - 0s 4ms/step - loss: 0.7771 - accuracy: 0.8082 - val_loss: 0.7186 - val_accuracy: 0.7676\n",
            "Epoch 61/100\n",
            "14/14 [==============================] - 0s 4ms/step - loss: 0.7775 - accuracy: 0.8159 - val_loss: 0.7169 - val_accuracy: 0.7606\n",
            "Epoch 62/100\n",
            "14/14 [==============================] - 0s 4ms/step - loss: 0.7847 - accuracy: 0.8041 - val_loss: 0.7334 - val_accuracy: 0.7770\n",
            "Epoch 63/100\n",
            "14/14 [==============================] - 0s 4ms/step - loss: 0.7705 - accuracy: 0.8159 - val_loss: 0.7189 - val_accuracy: 0.7723\n",
            "Epoch 64/100\n",
            "14/14 [==============================] - 0s 5ms/step - loss: 0.7657 - accuracy: 0.8188 - val_loss: 0.6835 - val_accuracy: 0.7864\n",
            "Epoch 65/100\n",
            "14/14 [==============================] - 0s 4ms/step - loss: 0.7482 - accuracy: 0.8129 - val_loss: 0.6775 - val_accuracy: 0.7746\n",
            "Epoch 66/100\n",
            "14/14 [==============================] - 0s 5ms/step - loss: 0.7444 - accuracy: 0.8171 - val_loss: 0.6670 - val_accuracy: 0.7746\n",
            "Epoch 67/100\n",
            "14/14 [==============================] - 0s 5ms/step - loss: 0.7680 - accuracy: 0.8076 - val_loss: 0.6878 - val_accuracy: 0.7746\n",
            "Epoch 68/100\n",
            "14/14 [==============================] - 0s 5ms/step - loss: 0.7621 - accuracy: 0.8112 - val_loss: 0.7036 - val_accuracy: 0.7676\n",
            "Epoch 69/100\n",
            "14/14 [==============================] - 0s 5ms/step - loss: 0.7593 - accuracy: 0.7976 - val_loss: 0.6894 - val_accuracy: 0.7746\n",
            "Epoch 70/100\n",
            "14/14 [==============================] - 0s 4ms/step - loss: 0.7396 - accuracy: 0.8129 - val_loss: 0.6428 - val_accuracy: 0.7817\n",
            "Epoch 71/100\n",
            "14/14 [==============================] - 0s 4ms/step - loss: 0.7317 - accuracy: 0.8076 - val_loss: 0.6503 - val_accuracy: 0.7676\n",
            "Epoch 72/100\n",
            "14/14 [==============================] - 0s 4ms/step - loss: 0.7417 - accuracy: 0.8000 - val_loss: 0.6594 - val_accuracy: 0.7887\n",
            "Epoch 73/100\n",
            "14/14 [==============================] - 0s 4ms/step - loss: 0.7215 - accuracy: 0.8171 - val_loss: 0.6324 - val_accuracy: 0.7700\n",
            "Epoch 74/100\n",
            "14/14 [==============================] - 0s 5ms/step - loss: 0.7087 - accuracy: 0.8147 - val_loss: 0.6659 - val_accuracy: 0.7700\n",
            "Epoch 75/100\n",
            "14/14 [==============================] - 0s 5ms/step - loss: 0.7320 - accuracy: 0.8112 - val_loss: 0.6851 - val_accuracy: 0.7723\n",
            "Epoch 76/100\n",
            "14/14 [==============================] - 0s 5ms/step - loss: 0.7363 - accuracy: 0.8135 - val_loss: 0.6450 - val_accuracy: 0.7676\n",
            "Epoch 77/100\n",
            "14/14 [==============================] - 0s 4ms/step - loss: 0.7081 - accuracy: 0.8141 - val_loss: 0.6455 - val_accuracy: 0.7723\n",
            "Epoch 78/100\n",
            "14/14 [==============================] - 0s 5ms/step - loss: 0.7045 - accuracy: 0.8100 - val_loss: 0.6211 - val_accuracy: 0.7817\n",
            "Epoch 79/100\n",
            "14/14 [==============================] - 0s 4ms/step - loss: 0.6936 - accuracy: 0.8165 - val_loss: 0.6201 - val_accuracy: 0.7793\n",
            "Epoch 80/100\n",
            "14/14 [==============================] - 0s 5ms/step - loss: 0.6947 - accuracy: 0.8153 - val_loss: 0.6165 - val_accuracy: 0.7793\n",
            "Epoch 81/100\n",
            "14/14 [==============================] - 0s 4ms/step - loss: 0.6906 - accuracy: 0.8171 - val_loss: 0.6202 - val_accuracy: 0.7840\n",
            "Epoch 82/100\n",
            "14/14 [==============================] - 0s 4ms/step - loss: 0.6896 - accuracy: 0.8147 - val_loss: 0.6107 - val_accuracy: 0.7911\n",
            "Epoch 83/100\n",
            "14/14 [==============================] - 0s 5ms/step - loss: 0.6958 - accuracy: 0.8135 - val_loss: 0.6069 - val_accuracy: 0.7887\n",
            "Epoch 84/100\n",
            "14/14 [==============================] - 0s 5ms/step - loss: 0.6888 - accuracy: 0.8147 - val_loss: 0.6201 - val_accuracy: 0.7746\n",
            "Epoch 85/100\n",
            "14/14 [==============================] - 0s 4ms/step - loss: 0.6904 - accuracy: 0.8147 - val_loss: 0.6014 - val_accuracy: 0.7817\n",
            "Epoch 86/100\n",
            "14/14 [==============================] - 0s 4ms/step - loss: 0.6810 - accuracy: 0.8124 - val_loss: 0.6184 - val_accuracy: 0.7817\n",
            "Epoch 87/100\n",
            "14/14 [==============================] - 0s 5ms/step - loss: 0.6789 - accuracy: 0.8135 - val_loss: 0.5993 - val_accuracy: 0.7817\n",
            "Epoch 88/100\n",
            "14/14 [==============================] - 0s 4ms/step - loss: 0.6850 - accuracy: 0.8200 - val_loss: 0.6480 - val_accuracy: 0.7746\n",
            "Epoch 89/100\n",
            "14/14 [==============================] - 0s 4ms/step - loss: 0.6843 - accuracy: 0.8159 - val_loss: 0.5974 - val_accuracy: 0.7746\n",
            "Epoch 90/100\n",
            "14/14 [==============================] - 0s 5ms/step - loss: 0.6720 - accuracy: 0.8188 - val_loss: 0.6198 - val_accuracy: 0.8052\n",
            "Epoch 91/100\n",
            "14/14 [==============================] - 0s 4ms/step - loss: 0.6707 - accuracy: 0.8200 - val_loss: 0.6028 - val_accuracy: 0.7770\n",
            "Epoch 92/100\n",
            "14/14 [==============================] - 0s 4ms/step - loss: 0.6746 - accuracy: 0.8112 - val_loss: 0.5848 - val_accuracy: 0.7723\n",
            "Epoch 93/100\n",
            "14/14 [==============================] - 0s 4ms/step - loss: 0.6721 - accuracy: 0.8153 - val_loss: 0.5996 - val_accuracy: 0.7770\n",
            "Epoch 94/100\n",
            "14/14 [==============================] - 0s 4ms/step - loss: 0.6861 - accuracy: 0.8129 - val_loss: 0.5928 - val_accuracy: 0.7817\n",
            "Epoch 95/100\n",
            "14/14 [==============================] - 0s 5ms/step - loss: 0.6668 - accuracy: 0.8135 - val_loss: 0.5789 - val_accuracy: 0.7793\n",
            "Epoch 96/100\n",
            "14/14 [==============================] - 0s 5ms/step - loss: 0.6594 - accuracy: 0.8212 - val_loss: 0.5825 - val_accuracy: 0.7911\n",
            "Epoch 97/100\n",
            "14/14 [==============================] - 0s 5ms/step - loss: 0.6597 - accuracy: 0.8176 - val_loss: 0.5775 - val_accuracy: 0.7817\n",
            "Epoch 98/100\n",
            "14/14 [==============================] - 0s 4ms/step - loss: 0.6535 - accuracy: 0.8206 - val_loss: 0.5922 - val_accuracy: 0.8075\n",
            "Epoch 99/100\n",
            "14/14 [==============================] - 0s 4ms/step - loss: 0.6600 - accuracy: 0.8182 - val_loss: 0.5831 - val_accuracy: 0.7793\n",
            "Epoch 100/100\n",
            "14/14 [==============================] - 0s 4ms/step - loss: 0.6683 - accuracy: 0.8147 - val_loss: 0.6196 - val_accuracy: 0.7911\n"
          ],
          "name": "stdout"
        }
      ]
    },
    {
      "cell_type": "code",
      "metadata": {
        "id": "R4IyVK3PwAl9",
        "colab_type": "code",
        "colab": {
          "base_uri": "https://localhost:8080/",
          "height": 54
        },
        "outputId": "6f69f63f-f5fc-4605-9154-0d99c63a88e6"
      },
      "source": [
        "y_pred = lrmodel.predict(x_test)\n",
        "y_pred = np.argmax(y_pred, axis=1)\n",
        "print(\"Accuracy of Bernoulli NB:\", metrics.accuracy_score(y_test, y_pred))\n",
        "print(\"F-score of Bernoulli NB:\", f1_score(y_test, y_pred, average='macro'))"
      ],
      "execution_count": 35,
      "outputs": [
        {
          "output_type": "stream",
          "text": [
            "Accuracy of Bernoulli NB: 0.7981220657276995\n",
            "F-score of Bernoulli NB: 0.6426944668432366\n"
          ],
          "name": "stdout"
        }
      ]
    },
    {
      "cell_type": "code",
      "metadata": {
        "id": "Vg0jE2GqupLI",
        "colab_type": "code",
        "colab": {
          "base_uri": "https://localhost:8080/",
          "height": 573
        },
        "outputId": "9cdea825-109c-45b1-bd17-008a5fe5ccaf"
      },
      "source": [
        "# Plot training & validation accuracy values\n",
        "plt.plot(hist.history['accuracy'])\n",
        "plt.plot(hist.history['val_accuracy'])\n",
        "plt.title('Model accuracy')\n",
        "plt.ylabel('Accuracy')\n",
        "plt.xlabel('Epoch')\n",
        "plt.legend(['Train', 'Test'], loc='upper left')\n",
        "plt.show()\n",
        "plt.figure()\n",
        "# Plot training & validation loss values\n",
        "plt.plot(hist.history['loss'])\n",
        "plt.plot(hist.history['val_loss'])\n",
        "plt.title('Model loss')\n",
        "plt.ylabel('Loss')\n",
        "plt.xlabel('Epoch')\n",
        "plt.legend(['Train', 'Test'], loc='upper left')\n",
        "plt.show()"
      ],
      "execution_count": 15,
      "outputs": [
        {
          "output_type": "display_data",
          "data": {
            "image/png": "[encoded data removed]",
            "text/plain": [
              "<Figure size 432x288 with 1 Axes>"
            ]
          },
          "metadata": {
            "tags": [],
            "needs_background": "light"
          }
        },
        {
          "output_type": "display_data",
          "data": {
            "image/png": "[encoded data removed]",
            "text/plain": [
              "<Figure size 432x288 with 1 Axes>"
            ]
          },
          "metadata": {
            "tags": [],
            "needs_background": "light"
          }
        }
      ]
    },
    {
      "cell_type": "markdown",
      "metadata": {
        "id": "aZeFEFV1vBE2",
        "colab_type": "text"
      },
      "source": [
        "#Test of artificial data:"
      ]
    },
    {
      "cell_type": "code",
      "metadata": {
        "id": "Gx5zLf9cvAok",
        "colab_type": "code",
        "colab": {}
      },
      "source": [
        "# load data\n",
        "xls = pd.ExcelFile('../data_creation/artificial_FINAL.xlsx')\n",
        "data = pd.read_excel(xls, 'Sheet1')\n",
        "\n",
        "x_train, y_train, x_test, y_test = xls2df(data, 4055)\n",
        "y_train = y_train-1\n",
        "y_test = y_test - 1"
      ],
      "execution_count": 36,
      "outputs": []
    },
    {
      "cell_type": "code",
      "metadata": {
        "id": "LYnndBIsvJfP",
        "colab_type": "code",
        "colab": {}
      },
      "source": [
        "lrmodel1 = Sequential()\n",
        "\n",
        "lrmodel1.add(Dense(3, activation=\"softmax\"))"
      ],
      "execution_count": 24,
      "outputs": []
    },
    {
      "cell_type": "code",
      "metadata": {
        "id": "Zt3i_e1SvR-L",
        "colab_type": "code",
        "colab": {
          "base_uri": "https://localhost:8080/",
          "height": 1000
        },
        "outputId": "e0d84bda-72b3-4418-fad0-5257b794c220"
      },
      "source": [
        "lrmodel1.compile(optimizer=\"adam\", loss='sparse_categorical_crossentropy',\n",
        "              metrics=['accuracy'])\n",
        "hist1 = lrmodel1.fit(x_train, y_train, batch_size=16, epochs=100, validation_data=(x_test, y_test))"
      ],
      "execution_count": 25,
      "outputs": [
        {
          "output_type": "stream",
          "text": [
            "Epoch 1/100\n",
            "203/203 [==============================] - 0s 2ms/step - loss: 17.1296 - accuracy: 0.3656 - val_loss: 5.4874 - val_accuracy: 0.5499\n",
            "Epoch 2/100\n",
            "203/203 [==============================] - 0s 2ms/step - loss: 4.6550 - accuracy: 0.5660 - val_loss: 3.6612 - val_accuracy: 0.6252\n",
            "Epoch 3/100\n",
            "203/203 [==============================] - 1s 3ms/step - loss: 3.3040 - accuracy: 0.6400 - val_loss: 2.8819 - val_accuracy: 0.6498\n",
            "Epoch 4/100\n",
            "203/203 [==============================] - 0s 2ms/step - loss: 2.6171 - accuracy: 0.6865 - val_loss: 2.4381 - val_accuracy: 0.6720\n",
            "Epoch 5/100\n",
            "203/203 [==============================] - 0s 2ms/step - loss: 2.1294 - accuracy: 0.7195 - val_loss: 1.9772 - val_accuracy: 0.7337\n",
            "Epoch 6/100\n",
            "203/203 [==============================] - 0s 2ms/step - loss: 1.8489 - accuracy: 0.7488 - val_loss: 1.8827 - val_accuracy: 0.7608\n",
            "Epoch 7/100\n",
            "203/203 [==============================] - 0s 2ms/step - loss: 1.6455 - accuracy: 0.7651 - val_loss: 1.6442 - val_accuracy: 0.7682\n",
            "Epoch 8/100\n",
            "203/203 [==============================] - 0s 2ms/step - loss: 1.5275 - accuracy: 0.7814 - val_loss: 1.4846 - val_accuracy: 0.7916\n",
            "Epoch 9/100\n",
            "203/203 [==============================] - 0s 2ms/step - loss: 1.3546 - accuracy: 0.7916 - val_loss: 1.3694 - val_accuracy: 0.7953\n",
            "Epoch 10/100\n",
            "203/203 [==============================] - 0s 2ms/step - loss: 1.2512 - accuracy: 0.7969 - val_loss: 1.3484 - val_accuracy: 0.8015\n",
            "Epoch 11/100\n",
            "203/203 [==============================] - 0s 2ms/step - loss: 1.1465 - accuracy: 0.8046 - val_loss: 1.3185 - val_accuracy: 0.7941\n",
            "Epoch 12/100\n",
            "203/203 [==============================] - 0s 2ms/step - loss: 1.0636 - accuracy: 0.8123 - val_loss: 1.1254 - val_accuracy: 0.7916\n",
            "Epoch 13/100\n",
            "203/203 [==============================] - 0s 2ms/step - loss: 0.9996 - accuracy: 0.8150 - val_loss: 1.0798 - val_accuracy: 0.8274\n",
            "Epoch 14/100\n",
            "203/203 [==============================] - 0s 2ms/step - loss: 0.9249 - accuracy: 0.8218 - val_loss: 0.9831 - val_accuracy: 0.8101\n",
            "Epoch 15/100\n",
            "203/203 [==============================] - 0s 2ms/step - loss: 0.8771 - accuracy: 0.8197 - val_loss: 0.9874 - val_accuracy: 0.8101\n",
            "Epoch 16/100\n",
            "203/203 [==============================] - 0s 2ms/step - loss: 0.8525 - accuracy: 0.8258 - val_loss: 0.9325 - val_accuracy: 0.8237\n",
            "Epoch 17/100\n",
            "203/203 [==============================] - 0s 2ms/step - loss: 0.8063 - accuracy: 0.8314 - val_loss: 0.8302 - val_accuracy: 0.8298\n",
            "Epoch 18/100\n",
            "203/203 [==============================] - 0s 2ms/step - loss: 0.7462 - accuracy: 0.8357 - val_loss: 0.8182 - val_accuracy: 0.8311\n",
            "Epoch 19/100\n",
            "203/203 [==============================] - 0s 2ms/step - loss: 0.7154 - accuracy: 0.8348 - val_loss: 0.7843 - val_accuracy: 0.8372\n",
            "Epoch 20/100\n",
            "203/203 [==============================] - 0s 2ms/step - loss: 0.6787 - accuracy: 0.8329 - val_loss: 0.7364 - val_accuracy: 0.8126\n",
            "Epoch 21/100\n",
            "203/203 [==============================] - 0s 2ms/step - loss: 0.6600 - accuracy: 0.8314 - val_loss: 0.7291 - val_accuracy: 0.8187\n",
            "Epoch 22/100\n",
            "203/203 [==============================] - 0s 2ms/step - loss: 0.6258 - accuracy: 0.8363 - val_loss: 0.7488 - val_accuracy: 0.8163\n",
            "Epoch 23/100\n",
            "203/203 [==============================] - 0s 2ms/step - loss: 0.6081 - accuracy: 0.8372 - val_loss: 0.7271 - val_accuracy: 0.8274\n",
            "Epoch 24/100\n",
            "203/203 [==============================] - 0s 2ms/step - loss: 0.5562 - accuracy: 0.8453 - val_loss: 0.6453 - val_accuracy: 0.8335\n",
            "Epoch 25/100\n",
            "203/203 [==============================] - 0s 2ms/step - loss: 0.5592 - accuracy: 0.8412 - val_loss: 0.5775 - val_accuracy: 0.8372\n",
            "Epoch 26/100\n",
            "203/203 [==============================] - 0s 2ms/step - loss: 0.5272 - accuracy: 0.8483 - val_loss: 0.5534 - val_accuracy: 0.8459\n",
            "Epoch 27/100\n",
            "203/203 [==============================] - 0s 2ms/step - loss: 0.5104 - accuracy: 0.8446 - val_loss: 0.5775 - val_accuracy: 0.8249\n",
            "Epoch 28/100\n",
            "203/203 [==============================] - 0s 2ms/step - loss: 0.5175 - accuracy: 0.8425 - val_loss: 0.5147 - val_accuracy: 0.8311\n",
            "Epoch 29/100\n",
            "203/203 [==============================] - 0s 2ms/step - loss: 0.5011 - accuracy: 0.8437 - val_loss: 0.5012 - val_accuracy: 0.8397\n",
            "Epoch 30/100\n",
            "203/203 [==============================] - 0s 2ms/step - loss: 0.4747 - accuracy: 0.8468 - val_loss: 0.4762 - val_accuracy: 0.8397\n",
            "Epoch 31/100\n",
            "203/203 [==============================] - 0s 2ms/step - loss: 0.4722 - accuracy: 0.8422 - val_loss: 0.4914 - val_accuracy: 0.8459\n",
            "Epoch 32/100\n",
            "203/203 [==============================] - 0s 2ms/step - loss: 0.4420 - accuracy: 0.8465 - val_loss: 0.4808 - val_accuracy: 0.8422\n",
            "Epoch 33/100\n",
            "203/203 [==============================] - 0s 2ms/step - loss: 0.4369 - accuracy: 0.8465 - val_loss: 0.5021 - val_accuracy: 0.8323\n",
            "Epoch 34/100\n",
            "203/203 [==============================] - 0s 2ms/step - loss: 0.4330 - accuracy: 0.8511 - val_loss: 0.4274 - val_accuracy: 0.8483\n",
            "Epoch 35/100\n",
            "203/203 [==============================] - 0s 2ms/step - loss: 0.4146 - accuracy: 0.8554 - val_loss: 0.4294 - val_accuracy: 0.8385\n",
            "Epoch 36/100\n",
            "203/203 [==============================] - 0s 2ms/step - loss: 0.4001 - accuracy: 0.8585 - val_loss: 0.4124 - val_accuracy: 0.8446\n",
            "Epoch 37/100\n",
            "203/203 [==============================] - 0s 2ms/step - loss: 0.4088 - accuracy: 0.8493 - val_loss: 0.3913 - val_accuracy: 0.8483\n",
            "Epoch 38/100\n",
            "203/203 [==============================] - 0s 2ms/step - loss: 0.4115 - accuracy: 0.8520 - val_loss: 0.4443 - val_accuracy: 0.8372\n",
            "Epoch 39/100\n",
            "203/203 [==============================] - 0s 2ms/step - loss: 0.3823 - accuracy: 0.8570 - val_loss: 0.3792 - val_accuracy: 0.8533\n",
            "Epoch 40/100\n",
            "203/203 [==============================] - 0s 2ms/step - loss: 0.3791 - accuracy: 0.8560 - val_loss: 0.4005 - val_accuracy: 0.8446\n",
            "Epoch 41/100\n",
            "203/203 [==============================] - 0s 2ms/step - loss: 0.3847 - accuracy: 0.8490 - val_loss: 0.3810 - val_accuracy: 0.8422\n",
            "Epoch 42/100\n",
            "203/203 [==============================] - 0s 2ms/step - loss: 0.3657 - accuracy: 0.8628 - val_loss: 0.5127 - val_accuracy: 0.8397\n",
            "Epoch 43/100\n",
            "203/203 [==============================] - 0s 2ms/step - loss: 0.3717 - accuracy: 0.8564 - val_loss: 0.4302 - val_accuracy: 0.8397\n",
            "Epoch 44/100\n",
            "203/203 [==============================] - 0s 2ms/step - loss: 0.3700 - accuracy: 0.8570 - val_loss: 0.4507 - val_accuracy: 0.8224\n",
            "Epoch 45/100\n",
            "203/203 [==============================] - 0s 2ms/step - loss: 0.3768 - accuracy: 0.8576 - val_loss: 0.4073 - val_accuracy: 0.8397\n",
            "Epoch 46/100\n",
            "203/203 [==============================] - 0s 2ms/step - loss: 0.3708 - accuracy: 0.8600 - val_loss: 0.3592 - val_accuracy: 0.8607\n",
            "Epoch 47/100\n",
            "203/203 [==============================] - 0s 2ms/step - loss: 0.3676 - accuracy: 0.8576 - val_loss: 0.3669 - val_accuracy: 0.8545\n",
            "Epoch 48/100\n",
            "203/203 [==============================] - 0s 2ms/step - loss: 0.3706 - accuracy: 0.8564 - val_loss: 0.4035 - val_accuracy: 0.8422\n",
            "Epoch 49/100\n",
            "203/203 [==============================] - 0s 2ms/step - loss: 0.3726 - accuracy: 0.8576 - val_loss: 0.5198 - val_accuracy: 0.8052\n",
            "Epoch 50/100\n",
            "203/203 [==============================] - 0s 2ms/step - loss: 0.3787 - accuracy: 0.8582 - val_loss: 0.3789 - val_accuracy: 0.8446\n",
            "Epoch 51/100\n",
            "203/203 [==============================] - 0s 2ms/step - loss: 0.3480 - accuracy: 0.8674 - val_loss: 0.3450 - val_accuracy: 0.8705\n",
            "Epoch 52/100\n",
            "203/203 [==============================] - 0s 2ms/step - loss: 0.3579 - accuracy: 0.8557 - val_loss: 0.3482 - val_accuracy: 0.8693\n",
            "Epoch 53/100\n",
            "203/203 [==============================] - 0s 2ms/step - loss: 0.3801 - accuracy: 0.8533 - val_loss: 0.6672 - val_accuracy: 0.7978\n",
            "Epoch 54/100\n",
            "203/203 [==============================] - 0s 2ms/step - loss: 0.3722 - accuracy: 0.8536 - val_loss: 0.3695 - val_accuracy: 0.8508\n",
            "Epoch 55/100\n",
            "203/203 [==============================] - 0s 2ms/step - loss: 0.3551 - accuracy: 0.8622 - val_loss: 0.3871 - val_accuracy: 0.8434\n",
            "Epoch 56/100\n",
            "203/203 [==============================] - 0s 2ms/step - loss: 0.3492 - accuracy: 0.8665 - val_loss: 0.3932 - val_accuracy: 0.8557\n",
            "Epoch 57/100\n",
            "203/203 [==============================] - 0s 2ms/step - loss: 0.3631 - accuracy: 0.8631 - val_loss: 0.6141 - val_accuracy: 0.8027\n",
            "Epoch 58/100\n",
            "203/203 [==============================] - 0s 2ms/step - loss: 0.3854 - accuracy: 0.8520 - val_loss: 0.5958 - val_accuracy: 0.7978\n",
            "Epoch 59/100\n",
            "203/203 [==============================] - 0s 2ms/step - loss: 0.3714 - accuracy: 0.8585 - val_loss: 0.3733 - val_accuracy: 0.8533\n",
            "Epoch 60/100\n",
            "203/203 [==============================] - 0s 2ms/step - loss: 0.3570 - accuracy: 0.8597 - val_loss: 0.3444 - val_accuracy: 0.8607\n",
            "Epoch 61/100\n",
            "203/203 [==============================] - 0s 2ms/step - loss: 0.3705 - accuracy: 0.8570 - val_loss: 0.3561 - val_accuracy: 0.8557\n",
            "Epoch 62/100\n",
            "203/203 [==============================] - 0s 2ms/step - loss: 0.3647 - accuracy: 0.8545 - val_loss: 0.3726 - val_accuracy: 0.8434\n",
            "Epoch 63/100\n",
            "203/203 [==============================] - 0s 2ms/step - loss: 0.3509 - accuracy: 0.8647 - val_loss: 0.3539 - val_accuracy: 0.8570\n",
            "Epoch 64/100\n",
            "203/203 [==============================] - 0s 2ms/step - loss: 0.3615 - accuracy: 0.8610 - val_loss: 0.3595 - val_accuracy: 0.8533\n",
            "Epoch 65/100\n",
            "203/203 [==============================] - 0s 2ms/step - loss: 0.3626 - accuracy: 0.8653 - val_loss: 0.3702 - val_accuracy: 0.8483\n",
            "Epoch 66/100\n",
            "203/203 [==============================] - 0s 2ms/step - loss: 0.3772 - accuracy: 0.8533 - val_loss: 0.3964 - val_accuracy: 0.8434\n",
            "Epoch 67/100\n",
            "203/203 [==============================] - 0s 2ms/step - loss: 0.3525 - accuracy: 0.8631 - val_loss: 0.3610 - val_accuracy: 0.8557\n",
            "Epoch 68/100\n",
            "203/203 [==============================] - 0s 2ms/step - loss: 0.3564 - accuracy: 0.8665 - val_loss: 0.3401 - val_accuracy: 0.8693\n",
            "Epoch 69/100\n",
            "203/203 [==============================] - 0s 2ms/step - loss: 0.3453 - accuracy: 0.8678 - val_loss: 0.3526 - val_accuracy: 0.8570\n",
            "Epoch 70/100\n",
            "203/203 [==============================] - 0s 2ms/step - loss: 0.3488 - accuracy: 0.8634 - val_loss: 0.5034 - val_accuracy: 0.8323\n",
            "Epoch 71/100\n",
            "203/203 [==============================] - 0s 2ms/step - loss: 0.3510 - accuracy: 0.8644 - val_loss: 0.3733 - val_accuracy: 0.8508\n",
            "Epoch 72/100\n",
            "203/203 [==============================] - 0s 2ms/step - loss: 0.3627 - accuracy: 0.8560 - val_loss: 0.7000 - val_accuracy: 0.8089\n",
            "Epoch 73/100\n",
            "203/203 [==============================] - 0s 2ms/step - loss: 0.3640 - accuracy: 0.8622 - val_loss: 0.3364 - val_accuracy: 0.8570\n",
            "Epoch 74/100\n",
            "203/203 [==============================] - 0s 2ms/step - loss: 0.3518 - accuracy: 0.8647 - val_loss: 0.3739 - val_accuracy: 0.8582\n",
            "Epoch 75/100\n",
            "203/203 [==============================] - 0s 2ms/step - loss: 0.3614 - accuracy: 0.8637 - val_loss: 0.3566 - val_accuracy: 0.8582\n",
            "Epoch 76/100\n",
            "203/203 [==============================] - 0s 2ms/step - loss: 0.3401 - accuracy: 0.8653 - val_loss: 0.3458 - val_accuracy: 0.8570\n",
            "Epoch 77/100\n",
            "203/203 [==============================] - 0s 2ms/step - loss: 0.3476 - accuracy: 0.8653 - val_loss: 0.3874 - val_accuracy: 0.8557\n",
            "Epoch 78/100\n",
            "203/203 [==============================] - 0s 2ms/step - loss: 0.3453 - accuracy: 0.8619 - val_loss: 0.3489 - val_accuracy: 0.8594\n",
            "Epoch 79/100\n",
            "203/203 [==============================] - 0s 2ms/step - loss: 0.3325 - accuracy: 0.8687 - val_loss: 0.3738 - val_accuracy: 0.8459\n",
            "Epoch 80/100\n",
            "203/203 [==============================] - 0s 2ms/step - loss: 0.3482 - accuracy: 0.8600 - val_loss: 0.4823 - val_accuracy: 0.8372\n",
            "Epoch 81/100\n",
            "203/203 [==============================] - 0s 2ms/step - loss: 0.3625 - accuracy: 0.8551 - val_loss: 0.4073 - val_accuracy: 0.8446\n",
            "Epoch 82/100\n",
            "203/203 [==============================] - 0s 2ms/step - loss: 0.3468 - accuracy: 0.8613 - val_loss: 0.4201 - val_accuracy: 0.8520\n",
            "Epoch 83/100\n",
            "203/203 [==============================] - 0s 2ms/step - loss: 0.3529 - accuracy: 0.8659 - val_loss: 0.3654 - val_accuracy: 0.8656\n",
            "Epoch 84/100\n",
            "203/203 [==============================] - 0s 2ms/step - loss: 0.3674 - accuracy: 0.8604 - val_loss: 0.4142 - val_accuracy: 0.8422\n",
            "Epoch 85/100\n",
            "203/203 [==============================] - 0s 2ms/step - loss: 0.3457 - accuracy: 0.8644 - val_loss: 0.3377 - val_accuracy: 0.8619\n",
            "Epoch 86/100\n",
            "203/203 [==============================] - 0s 2ms/step - loss: 0.3510 - accuracy: 0.8616 - val_loss: 0.3616 - val_accuracy: 0.8582\n",
            "Epoch 87/100\n",
            "203/203 [==============================] - 0s 2ms/step - loss: 0.3487 - accuracy: 0.8668 - val_loss: 0.3383 - val_accuracy: 0.8656\n",
            "Epoch 88/100\n",
            "203/203 [==============================] - 0s 2ms/step - loss: 0.3532 - accuracy: 0.8542 - val_loss: 0.3566 - val_accuracy: 0.8582\n",
            "Epoch 89/100\n",
            "203/203 [==============================] - 0s 2ms/step - loss: 0.3476 - accuracy: 0.8696 - val_loss: 0.3996 - val_accuracy: 0.8508\n",
            "Epoch 90/100\n",
            "203/203 [==============================] - 0s 2ms/step - loss: 0.3545 - accuracy: 0.8616 - val_loss: 0.3767 - val_accuracy: 0.8508\n",
            "Epoch 91/100\n",
            "203/203 [==============================] - 0s 2ms/step - loss: 0.3688 - accuracy: 0.8499 - val_loss: 0.4111 - val_accuracy: 0.8459\n",
            "Epoch 92/100\n",
            "203/203 [==============================] - 0s 2ms/step - loss: 0.3699 - accuracy: 0.8560 - val_loss: 0.4081 - val_accuracy: 0.8459\n",
            "Epoch 93/100\n",
            "203/203 [==============================] - 0s 2ms/step - loss: 0.3596 - accuracy: 0.8594 - val_loss: 0.4013 - val_accuracy: 0.8360\n",
            "Epoch 94/100\n",
            "203/203 [==============================] - 0s 2ms/step - loss: 0.3806 - accuracy: 0.8511 - val_loss: 0.3555 - val_accuracy: 0.8496\n",
            "Epoch 95/100\n",
            "203/203 [==============================] - 0s 2ms/step - loss: 0.3439 - accuracy: 0.8631 - val_loss: 0.3607 - val_accuracy: 0.8545\n",
            "Epoch 96/100\n",
            "203/203 [==============================] - 0s 2ms/step - loss: 0.3625 - accuracy: 0.8533 - val_loss: 0.4018 - val_accuracy: 0.8385\n",
            "Epoch 97/100\n",
            "203/203 [==============================] - 0s 2ms/step - loss: 0.3606 - accuracy: 0.8662 - val_loss: 0.3425 - val_accuracy: 0.8656\n",
            "Epoch 98/100\n",
            "203/203 [==============================] - 0s 2ms/step - loss: 0.3412 - accuracy: 0.8585 - val_loss: 0.3994 - val_accuracy: 0.8496\n",
            "Epoch 99/100\n",
            "203/203 [==============================] - 0s 2ms/step - loss: 0.3427 - accuracy: 0.8631 - val_loss: 0.3503 - val_accuracy: 0.8594\n",
            "Epoch 100/100\n",
            "203/203 [==============================] - 0s 2ms/step - loss: 0.3480 - accuracy: 0.8579 - val_loss: 0.4167 - val_accuracy: 0.8520\n"
          ],
          "name": "stdout"
        }
      ]
    },
    {
      "cell_type": "code",
      "metadata": {
        "id": "QgLTetiMxYSX",
        "colab_type": "code",
        "colab": {
          "base_uri": "https://localhost:8080/",
          "height": 54
        },
        "outputId": "e26161eb-88c8-4531-a45d-c8344545f5c9"
      },
      "source": [
        "y_pred = lrmodel1.predict(x_test)\n",
        "y_pred = np.argmax(y_pred, axis=1)\n",
        "print(\"Accuracy of Bernoulli NB:\", metrics.accuracy_score(y_test, y_pred))\n",
        "print(\"F-score of Bernoulli NB:\", f1_score(y_test, y_pred, average='macro'))"
      ],
      "execution_count": 38,
      "outputs": [
        {
          "output_type": "stream",
          "text": [
            "Accuracy of Bernoulli NB: 0.8532675709001233\n",
            "F-score of Bernoulli NB: 0.85203395112651\n"
          ],
          "name": "stdout"
        }
      ]
    },
    {
      "cell_type": "code",
      "metadata": {
        "id": "BMbDkUHEvbSe",
        "colab_type": "code",
        "colab": {
          "base_uri": "https://localhost:8080/",
          "height": 573
        },
        "outputId": "6740209a-8680-49b5-dbcd-dbde51afa138"
      },
      "source": [
        "# Plot training & validation accuracy values\n",
        "plt.plot(hist1.history['accuracy'])\n",
        "plt.plot(hist1.history['val_accuracy'])\n",
        "plt.title('Model accuracy')\n",
        "plt.ylabel('Accuracy')\n",
        "plt.xlabel('Epoch')\n",
        "plt.legend(['Train', 'Test'], loc='upper left')\n",
        "plt.show()\n",
        "plt.figure()\n",
        "# Plot training & validation loss values\n",
        "plt.plot(hist1.history['loss'])\n",
        "plt.plot(hist1.history['val_loss'])\n",
        "plt.title('Model loss')\n",
        "plt.ylabel('Loss')\n",
        "plt.xlabel('Epoch')\n",
        "plt.legend(['Train', 'Test'], loc='upper left')\n",
        "plt.show()"
      ],
      "execution_count": 26,
      "outputs": [
        {
          "output_type": "display_data",
          "data": {
            "image/png": "[encoded data removed]",
            "text/plain": [
              "<Figure size 432x288 with 1 Axes>"
            ]
          },
          "metadata": {
            "tags": [],
            "needs_background": "light"
          }
        },
        {
          "output_type": "display_data",
          "data": {
            "image/png": "[encoded data removed]",
            "text/plain": [
              "<Figure size 432x288 with 1 Axes>"
            ]
          },
          "metadata": {
            "tags": [],
            "needs_background": "light"
          }
        }
      ]
    }
  ]
}