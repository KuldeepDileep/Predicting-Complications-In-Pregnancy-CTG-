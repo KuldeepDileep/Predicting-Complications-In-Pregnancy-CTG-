{
 "cells": [
  {
   "cell_type": "code",
   "execution_count": 5,
   "metadata": {},
   "outputs": [],
   "source": [
    "from sklearn.metrics import f1_score, accuracy_score\n",
    "from sklearn.naive_bayes import GaussianNB, BernoulliNB\n",
    "from sklearn import metrics\n",
    "\n",
    "import numpy as np\n",
    "import matplotlib.pyplot as plt\n",
    "import pandas as pd\n",
    "\n",
    "from cluster_data_creation import data_for_cluster, cluster_extract"
   ]
  },
  {
   "cell_type": "code",
   "execution_count": 6,
   "metadata": {},
   "outputs": [],
   "source": [
    "feat_num = 21\n",
    "classes = 3\n",
    "\n",
    "# load data from df to arrays to train and test\n",
    "\n",
    "def xls2df(df, N, split=0.8):\n",
    "    # strings of feature names for reference\n",
    "    # of 21 features\n",
    "    feat_num = 21\n",
    "    classes = 3\n",
    "    feature_names = np.array([data[i][0] for i in range(1, feat_num+classes)])\n",
    "    \n",
    "    # load all data\n",
    "    all_data = np.array([[data[i][j] for i in range(1, feat_num+1)]\n",
    "                                     for j in range(1, N+1)])\n",
    "    # load all labels\n",
    "    all_labels = np.array([data[23][i] for i in range(1, N+1)])\n",
    "    \n",
    "    # shuffle indices so that no class gets huddled together\n",
    "    idxs = [i for i in range(N)]\n",
    "    np.random.shuffle(idxs)\n",
    "    all_data = all_data[idxs]\n",
    "    all_labels = all_labels[idxs]\n",
    "    \n",
    "    # split into 80: 20 for test: train data\n",
    "    train_num = int(N*split)\n",
    "\n",
    "    # load train data\n",
    "    train_data = all_data[:train_num]\n",
    "    \n",
    "    # load train labels\n",
    "    train_labels = all_labels[:train_num]\n",
    "    \n",
    "    # load test data\n",
    "    test_data = all_data[train_num:]\n",
    "    \n",
    "    # load test labels\n",
    "    test_labels = all_labels[train_num:]\n",
    "    \n",
    "    return train_data, train_labels, test_data, test_labels"
   ]
  },
  {
   "cell_type": "markdown",
   "metadata": {},
   "source": [
    "# Test on Original Dataset"
   ]
  },
  {
   "cell_type": "code",
   "execution_count": 36,
   "metadata": {},
   "outputs": [],
   "source": [
    "# load data\n",
    "xls = pd.ExcelFile('../CTG.xls')\n",
    "data = pd.read_excel(xls, 'Data')\n",
    "\n",
    "x_train, y_train, x_test, y_test = xls2df(data, 2126)"
   ]
  },
  {
   "cell_type": "code",
   "execution_count": 50,
   "metadata": {},
   "outputs": [
    {
     "name": "stdout",
     "output_type": "stream",
     "text": [
      "Accuracy of Guassian NB: 0.8145539906103286\n",
      "F-score of Guassian NB: 0.730946248600224\n"
     ]
    }
   ],
   "source": [
    "model = GaussianNB()\n",
    "model.fit(x_train, y_train)\n",
    "\n",
    "y_pred = model.predict(x_test)\n",
    "print(\"Accuracy of Guassian NB:\", metrics.accuracy_score(y_test, y_pred))\n",
    "print(\"F-score of Guassian NB:\", f1_score(y_test, y_pred, average='macro'))"
   ]
  },
  {
   "cell_type": "code",
   "execution_count": 51,
   "metadata": {},
   "outputs": [
    {
     "name": "stdout",
     "output_type": "stream",
     "text": [
      "Accuracy of Bernoulli NB: 0.852112676056338\n",
      "F-score of Bernoulli NB: 0.7432343263489369\n"
     ]
    }
   ],
   "source": [
    "model = BernoulliNB()\n",
    "model.fit(x_train, y_train)\n",
    "\n",
    "y_pred = model.predict(x_test)\n",
    "print(\"Accuracy of Bernoulli NB:\", metrics.accuracy_score(y_test, y_pred))\n",
    "print(\"F-score of Bernoulli NB:\", f1_score(y_test, y_pred, average='macro'))"
   ]
  },
  {
   "cell_type": "markdown",
   "metadata": {},
   "source": [
    "# Test on Artificial Dataset"
   ]
  },
  {
   "cell_type": "code",
   "execution_count": 7,
   "metadata": {},
   "outputs": [],
   "source": [
    "# load data\n",
    "xls = pd.ExcelFile('../data_creation/artificial_FINAL.xlsx')\n",
    "data = pd.read_excel(xls, 'Sheet1')\n",
    "\n",
    "x_train, y_train, x_test, y_test = xls2df(data, 5400)"
   ]
  },
  {
   "cell_type": "code",
   "execution_count": 8,
   "metadata": {},
   "outputs": [
    {
     "name": "stdout",
     "output_type": "stream",
     "text": [
      "Accuracy of Guassian NB: 0.8842592592592593\n",
      "F-score of Guassian NB: 0.8834033460075634\n"
     ]
    }
   ],
   "source": [
    "model = GaussianNB()\n",
    "model.fit(x_train, y_train)\n",
    "\n",
    "y_pred = model.predict(x_test)\n",
    "print(\"Accuracy of Guassian NB:\", metrics.accuracy_score(y_test, y_pred))\n",
    "print(\"F-score of Guassian NB:\", f1_score(y_test, y_pred, average='macro'))"
   ]
  },
  {
   "cell_type": "code",
   "execution_count": 9,
   "metadata": {},
   "outputs": [
    {
     "name": "stdout",
     "output_type": "stream",
     "text": [
      "Accuracy of Bernoulli NB: 0.8851851851851852\n",
      "F-score of Bernoulli NB: 0.8878249441664946\n"
     ]
    }
   ],
   "source": [
    "model = BernoulliNB()\n",
    "model.fit(x_train, y_train)\n",
    "\n",
    "y_pred = model.predict(x_test)\n",
    "print(\"Accuracy of Bernoulli NB:\", metrics.accuracy_score(y_test, y_pred))\n",
    "print(\"F-score of Bernoulli NB:\", f1_score(y_test, y_pred, average='macro'))"
   ]
  }
 ],
 "metadata": {
  "kernelspec": {
   "display_name": "Python 3",
   "language": "python",
   "name": "python3"
  },
  "language_info": {
   "codemirror_mode": {
    "name": "ipython",
    "version": 3
   },
   "file_extension": ".py",
   "mimetype": "text/x-python",
   "name": "python",
   "nbconvert_exporter": "python",
   "pygments_lexer": "ipython3",
   "version": "3.7.7"
  }
 },
 "nbformat": 4,
 "nbformat_minor": 4
}
