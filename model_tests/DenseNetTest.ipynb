{
  "nbformat": 4,
  "nbformat_minor": 0,
  "metadata": {
    "colab": {
      "name": "DenseNetTest.ipynb",
      "provenance": [],
      "toc_visible": true
    },
    "kernelspec": {
      "name": "python3",
      "display_name": "Python 3"
    },
    "accelerator": "GPU"
  },
  "cells": [
    {
      "cell_type": "code",
      "metadata": {
        "id": "Ifnk0ii8AMWq",
        "colab_type": "code",
        "colab": {}
      },
      "source": [
        "import tensorflow \n",
        "from tensorflow.keras.models import Sequential\n",
        "from tensorflow.keras.layers import Dense, Conv2D, MaxPool2D , Flatten, GlobalAveragePooling2D, Activation, Reshape, LeakyReLU, Dropout\n",
        "from tensorflow.keras import optimizers\n",
        "from tensorflow.keras import regularizers, initializers\n",
        "from sklearn import svm\n",
        "from sklearn import metrics\n",
        "from sklearn.metrics import f1_score, accuracy_score\n",
        "import numpy as np\n",
        "import matplotlib.pyplot as plt\n",
        "import pandas as pd"
      ],
      "execution_count": 173,
      "outputs": []
    },
    {
      "cell_type": "code",
      "metadata": {
        "id": "TyjR4JW0A7sj",
        "colab_type": "code",
        "colab": {}
      },
      "source": [
        "feat_num = 21\n",
        "classes = 3\n",
        "\n",
        "# load data from df to arrays to train and test\n",
        "\n",
        "def xls2df(df, N, split=0.8):\n",
        "    # strings of feature names for reference\n",
        "    # of 21 features\n",
        "    feat_num = 21\n",
        "    classes = 3\n",
        "    feature_names = np.array([data[i][0] for i in range(1, feat_num+classes)])\n",
        "    \n",
        "    # load all data\n",
        "    all_data = np.array([[data[i][j] for i in range(1, feat_num+1)]\n",
        "                                     for j in range(1, N+1)])\n",
        "    # load all labels\n",
        "    all_labels = np.array([data[23][i] for i in range(1, N+1)])\n",
        "    \n",
        "    # shuffle indices so that no class gets huddled together\n",
        "    idxs = [i for i in range(N)]\n",
        "    np.random.shuffle(idxs)\n",
        "    all_data = all_data[idxs]\n",
        "    all_labels = all_labels[idxs]\n",
        "    \n",
        "    # split into 80: 20 for test: train data\n",
        "    train_num = int(N*split)\n",
        "\n",
        "    # load train data\n",
        "    train_data = all_data[:train_num]\n",
        "    \n",
        "    # load train labels\n",
        "    train_labels = all_labels[:train_num]\n",
        "    \n",
        "    # load test data\n",
        "    test_data = all_data[train_num:]\n",
        "    \n",
        "    # load test labels\n",
        "    test_labels = all_labels[train_num:]\n",
        "    \n",
        "    return train_data, train_labels, test_data, test_labels"
      ],
      "execution_count": 2,
      "outputs": []
    },
    {
      "cell_type": "markdown",
      "metadata": {
        "id": "pqYzz4CvBmgU",
        "colab_type": "text"
      },
      "source": [
        "# Test on original dataset"
      ]
    },
    {
      "cell_type": "code",
      "metadata": {
        "id": "PKLaJvuLBp98",
        "colab_type": "code",
        "colab": {}
      },
      "source": [
        "# load data\n",
        "xls = pd.ExcelFile('CTG.xls')\n",
        "data = pd.read_excel(xls, 'Data')\n",
        "\n",
        "x_train, y_train, x_test, y_test = xls2df(data, 2126)\n",
        "y_train = y_train-1\n",
        "y_test = y_test - 1"
      ],
      "execution_count": 77,
      "outputs": []
    },
    {
      "cell_type": "code",
      "metadata": {
        "id": "DKmc5gvhB53z",
        "colab_type": "code",
        "colab": {}
      },
      "source": [
        "densenn = Sequential()\n",
        "\n",
        "densenn.add(Dense(512, activation=\"relu\"))\n",
        "\n",
        "densenn.add(Dense(8, activation=\"relu\"))\n",
        "\n",
        "densenn.add(Dense(3, activation=\"softmax\"))"
      ],
      "execution_count": 78,
      "outputs": []
    },
    {
      "cell_type": "code",
      "metadata": {
        "id": "0lkG5DF0DcSx",
        "colab_type": "code",
        "colab": {}
      },
      "source": [
        "x_train = (x_train - np.min(x_train))/(np.max(x_train) - np.min(x_train))\n",
        "x_test = (x_test - np.min(x_test))/(np.max(x_test) - np.min(x_test))"
      ],
      "execution_count": 79,
      "outputs": []
    },
    {
      "cell_type": "code",
      "metadata": {
        "id": "ymcKpnN5B-z8",
        "colab_type": "code",
        "colab": {
          "base_uri": "https://localhost:8080/",
          "height": 1000
        },
        "outputId": "f9962404-aca8-4e12-cc19-0fc957d7f2ba"
      },
      "source": [
        "densenn.compile(optimizer=\"adam\", loss='sparse_categorical_crossentropy',\n",
        "                metrics=['accuracy'])\n",
        "hist = densenn.fit(x_train, y_train, batch_size=16, epochs=50, validation_data=(x_test, y_test))"
      ],
      "execution_count": 80,
      "outputs": [
        {
          "output_type": "stream",
          "text": [
            "Epoch 1/50\n",
            "107/107 [==============================] - 0s 5ms/step - loss: 0.7011 - accuracy: 0.7706 - val_loss: 0.6214 - val_accuracy: 0.7700\n",
            "Epoch 2/50\n",
            "107/107 [==============================] - 0s 4ms/step - loss: 0.5869 - accuracy: 0.7782 - val_loss: 0.5225 - val_accuracy: 0.7723\n",
            "Epoch 3/50\n",
            "107/107 [==============================] - 0s 4ms/step - loss: 0.5145 - accuracy: 0.7982 - val_loss: 0.4416 - val_accuracy: 0.8099\n",
            "Epoch 4/50\n",
            "107/107 [==============================] - 0s 4ms/step - loss: 0.4589 - accuracy: 0.8212 - val_loss: 0.4136 - val_accuracy: 0.8169\n",
            "Epoch 5/50\n",
            "107/107 [==============================] - 0s 4ms/step - loss: 0.4262 - accuracy: 0.8294 - val_loss: 0.3984 - val_accuracy: 0.8286\n",
            "Epoch 6/50\n",
            "107/107 [==============================] - 0s 4ms/step - loss: 0.4170 - accuracy: 0.8371 - val_loss: 0.3731 - val_accuracy: 0.8592\n",
            "Epoch 7/50\n",
            "107/107 [==============================] - 0s 4ms/step - loss: 0.4002 - accuracy: 0.8412 - val_loss: 0.3609 - val_accuracy: 0.8498\n",
            "Epoch 8/50\n",
            "107/107 [==============================] - 0s 4ms/step - loss: 0.4098 - accuracy: 0.8341 - val_loss: 0.3642 - val_accuracy: 0.8615\n",
            "Epoch 9/50\n",
            "107/107 [==============================] - 0s 4ms/step - loss: 0.3855 - accuracy: 0.8459 - val_loss: 0.3379 - val_accuracy: 0.8685\n",
            "Epoch 10/50\n",
            "107/107 [==============================] - 0s 3ms/step - loss: 0.3807 - accuracy: 0.8500 - val_loss: 0.3359 - val_accuracy: 0.8826\n",
            "Epoch 11/50\n",
            "107/107 [==============================] - 0s 4ms/step - loss: 0.3776 - accuracy: 0.8518 - val_loss: 0.3389 - val_accuracy: 0.8709\n",
            "Epoch 12/50\n",
            "107/107 [==============================] - 0s 4ms/step - loss: 0.3689 - accuracy: 0.8559 - val_loss: 0.3431 - val_accuracy: 0.8592\n",
            "Epoch 13/50\n",
            "107/107 [==============================] - 0s 3ms/step - loss: 0.3639 - accuracy: 0.8559 - val_loss: 0.3448 - val_accuracy: 0.8545\n",
            "Epoch 14/50\n",
            "107/107 [==============================] - 0s 4ms/step - loss: 0.3793 - accuracy: 0.8535 - val_loss: 0.3412 - val_accuracy: 0.8756\n",
            "Epoch 15/50\n",
            "107/107 [==============================] - 0s 4ms/step - loss: 0.3564 - accuracy: 0.8588 - val_loss: 0.3182 - val_accuracy: 0.8826\n",
            "Epoch 16/50\n",
            "107/107 [==============================] - 0s 4ms/step - loss: 0.3553 - accuracy: 0.8541 - val_loss: 0.3224 - val_accuracy: 0.8685\n",
            "Epoch 17/50\n",
            "107/107 [==============================] - 0s 3ms/step - loss: 0.3488 - accuracy: 0.8576 - val_loss: 0.3376 - val_accuracy: 0.8732\n",
            "Epoch 18/50\n",
            "107/107 [==============================] - 0s 4ms/step - loss: 0.3457 - accuracy: 0.8612 - val_loss: 0.3993 - val_accuracy: 0.8427\n",
            "Epoch 19/50\n",
            "107/107 [==============================] - 0s 4ms/step - loss: 0.3470 - accuracy: 0.8624 - val_loss: 0.3142 - val_accuracy: 0.8756\n",
            "Epoch 20/50\n",
            "107/107 [==============================] - 0s 4ms/step - loss: 0.3393 - accuracy: 0.8606 - val_loss: 0.3156 - val_accuracy: 0.8779\n",
            "Epoch 21/50\n",
            "107/107 [==============================] - 0s 3ms/step - loss: 0.3329 - accuracy: 0.8729 - val_loss: 0.3254 - val_accuracy: 0.8732\n",
            "Epoch 22/50\n",
            "107/107 [==============================] - 0s 4ms/step - loss: 0.3350 - accuracy: 0.8682 - val_loss: 0.3078 - val_accuracy: 0.8826\n",
            "Epoch 23/50\n",
            "107/107 [==============================] - 0s 3ms/step - loss: 0.3323 - accuracy: 0.8671 - val_loss: 0.3770 - val_accuracy: 0.8451\n",
            "Epoch 24/50\n",
            "107/107 [==============================] - 0s 4ms/step - loss: 0.3306 - accuracy: 0.8724 - val_loss: 0.3284 - val_accuracy: 0.8638\n",
            "Epoch 25/50\n",
            "107/107 [==============================] - 0s 4ms/step - loss: 0.3315 - accuracy: 0.8729 - val_loss: 0.2989 - val_accuracy: 0.8991\n",
            "Epoch 26/50\n",
            "107/107 [==============================] - 0s 4ms/step - loss: 0.3252 - accuracy: 0.8671 - val_loss: 0.2963 - val_accuracy: 0.8920\n",
            "Epoch 27/50\n",
            "107/107 [==============================] - 0s 4ms/step - loss: 0.3138 - accuracy: 0.8765 - val_loss: 0.2915 - val_accuracy: 0.8967\n",
            "Epoch 28/50\n",
            "107/107 [==============================] - 0s 4ms/step - loss: 0.3132 - accuracy: 0.8800 - val_loss: 0.3057 - val_accuracy: 0.8897\n",
            "Epoch 29/50\n",
            "107/107 [==============================] - 0s 4ms/step - loss: 0.3123 - accuracy: 0.8776 - val_loss: 0.3248 - val_accuracy: 0.8779\n",
            "Epoch 30/50\n",
            "107/107 [==============================] - 0s 4ms/step - loss: 0.3194 - accuracy: 0.8688 - val_loss: 0.3070 - val_accuracy: 0.8920\n",
            "Epoch 31/50\n",
            "107/107 [==============================] - 0s 4ms/step - loss: 0.3109 - accuracy: 0.8794 - val_loss: 0.3401 - val_accuracy: 0.8685\n",
            "Epoch 32/50\n",
            "107/107 [==============================] - 0s 4ms/step - loss: 0.3096 - accuracy: 0.8771 - val_loss: 0.3177 - val_accuracy: 0.8850\n",
            "Epoch 33/50\n",
            "107/107 [==============================] - 0s 4ms/step - loss: 0.3102 - accuracy: 0.8771 - val_loss: 0.3896 - val_accuracy: 0.8239\n",
            "Epoch 34/50\n",
            "107/107 [==============================] - 0s 4ms/step - loss: 0.3131 - accuracy: 0.8712 - val_loss: 0.3057 - val_accuracy: 0.8897\n",
            "Epoch 35/50\n",
            "107/107 [==============================] - 0s 4ms/step - loss: 0.3151 - accuracy: 0.8688 - val_loss: 0.3052 - val_accuracy: 0.8803\n",
            "Epoch 36/50\n",
            "107/107 [==============================] - 0s 4ms/step - loss: 0.3076 - accuracy: 0.8682 - val_loss: 0.2965 - val_accuracy: 0.8944\n",
            "Epoch 37/50\n",
            "107/107 [==============================] - 0s 4ms/step - loss: 0.3025 - accuracy: 0.8800 - val_loss: 0.2798 - val_accuracy: 0.9038\n",
            "Epoch 38/50\n",
            "107/107 [==============================] - 0s 4ms/step - loss: 0.2979 - accuracy: 0.8835 - val_loss: 0.3614 - val_accuracy: 0.8451\n",
            "Epoch 39/50\n",
            "107/107 [==============================] - 0s 4ms/step - loss: 0.2979 - accuracy: 0.8765 - val_loss: 0.3114 - val_accuracy: 0.8662\n",
            "Epoch 40/50\n",
            "107/107 [==============================] - 0s 4ms/step - loss: 0.3075 - accuracy: 0.8741 - val_loss: 0.2947 - val_accuracy: 0.8944\n",
            "Epoch 41/50\n",
            "107/107 [==============================] - 0s 4ms/step - loss: 0.2986 - accuracy: 0.8782 - val_loss: 0.3281 - val_accuracy: 0.8756\n",
            "Epoch 42/50\n",
            "107/107 [==============================] - 0s 4ms/step - loss: 0.2975 - accuracy: 0.8835 - val_loss: 0.2868 - val_accuracy: 0.8991\n",
            "Epoch 43/50\n",
            "107/107 [==============================] - 0s 4ms/step - loss: 0.3007 - accuracy: 0.8776 - val_loss: 0.3032 - val_accuracy: 0.8826\n",
            "Epoch 44/50\n",
            "107/107 [==============================] - 0s 4ms/step - loss: 0.2982 - accuracy: 0.8776 - val_loss: 0.3534 - val_accuracy: 0.8474\n",
            "Epoch 45/50\n",
            "107/107 [==============================] - 0s 4ms/step - loss: 0.2967 - accuracy: 0.8782 - val_loss: 0.3357 - val_accuracy: 0.8568\n",
            "Epoch 46/50\n",
            "107/107 [==============================] - 0s 4ms/step - loss: 0.2928 - accuracy: 0.8853 - val_loss: 0.3184 - val_accuracy: 0.8732\n",
            "Epoch 47/50\n",
            "107/107 [==============================] - 0s 4ms/step - loss: 0.2886 - accuracy: 0.8847 - val_loss: 0.3897 - val_accuracy: 0.8239\n",
            "Epoch 48/50\n",
            "107/107 [==============================] - 0s 4ms/step - loss: 0.2924 - accuracy: 0.8853 - val_loss: 0.3173 - val_accuracy: 0.8803\n",
            "Epoch 49/50\n",
            "107/107 [==============================] - 0s 4ms/step - loss: 0.2904 - accuracy: 0.8824 - val_loss: 0.3290 - val_accuracy: 0.8732\n",
            "Epoch 50/50\n",
            "107/107 [==============================] - 0s 4ms/step - loss: 0.2972 - accuracy: 0.8782 - val_loss: 0.2794 - val_accuracy: 0.9085\n"
          ],
          "name": "stdout"
        }
      ]
    },
    {
      "cell_type": "code",
      "metadata": {
        "id": "oCy-dtDUCNm5",
        "colab_type": "code",
        "colab": {
          "base_uri": "https://localhost:8080/",
          "height": 54
        },
        "outputId": "0b8b8ed1-03bb-4d89-9c95-3dde09626bd2"
      },
      "source": [
        "y_pred = densenn.predict(x_test)\n",
        "y_pred = np.argmax(y_pred, axis=1)\n",
        "print(\"Accuracy of dense nn:\", metrics.accuracy_score(y_test, y_pred))\n",
        "print(\"F-score of dense nn:\", f1_score(y_test, y_pred, average='macro'))"
      ],
      "execution_count": 81,
      "outputs": [
        {
          "output_type": "stream",
          "text": [
            "Accuracy of dense nn: 0.9084507042253521\n",
            "F-score of dense nn: 0.8419905957950774\n"
          ],
          "name": "stdout"
        }
      ]
    },
    {
      "cell_type": "code",
      "metadata": {
        "id": "5cNgw_SKCKbz",
        "colab_type": "code",
        "colab": {
          "base_uri": "https://localhost:8080/",
          "height": 573
        },
        "outputId": "b3ca8739-d153-49e6-c2fb-c02a68367d4c"
      },
      "source": [
        "# Plot training & validation accuracy values\n",
        "plt.plot(hist.history['accuracy'])\n",
        "plt.plot(hist.history['val_accuracy'])\n",
        "plt.title('Model accuracy')\n",
        "plt.ylabel('Accuracy')\n",
        "plt.xlabel('Epoch')\n",
        "plt.legend(['Train', 'Test'], loc='upper left')\n",
        "plt.show()\n",
        "plt.figure()\n",
        "# Plot training & validation loss values\n",
        "plt.plot(hist.history['loss'])\n",
        "plt.plot(hist.history['val_loss'])\n",
        "plt.title('Model loss')\n",
        "plt.ylabel('Loss')\n",
        "plt.xlabel('Epoch')\n",
        "plt.legend(['Train', 'Test'], loc='upper left')\n",
        "plt.show()"
      ],
      "execution_count": 82,
      "outputs": [
        {
          "output_type": "display_data",
          "data": {
            "image/png": "[encoded data removed]",
            "text/plain": [
              "<Figure size 432x288 with 1 Axes>"
            ]
          },
          "metadata": {
            "tags": [],
            "needs_background": "light"
          }
        },
        {
          "output_type": "display_data",
          "data": {
            "image/png": "[encoded data removed]",
            "text/plain": [
              "<Figure size 432x288 with 1 Axes>"
            ]
          },
          "metadata": {
            "tags": [],
            "needs_background": "light"
          }
        }
      ]
    },
    {
      "cell_type": "markdown",
      "metadata": {
        "id": "jq8FU-BPGzTd",
        "colab_type": "text"
      },
      "source": [
        "# Test on Artificial Dataset"
      ]
    },
    {
      "cell_type": "code",
      "metadata": {
        "id": "x6hDYrjhG28D",
        "colab_type": "code",
        "colab": {}
      },
      "source": [
        "# load data\n",
        "xls = pd.ExcelFile('artificial_FINAL.xlsx')\n",
        "data = pd.read_excel(xls, 'Sheet1')\n",
        "\n",
        "x_train, y_train, x_test, y_test = xls2df(data, 5400)\n",
        "y_train = y_train-1\n",
        "y_test = y_test - 1"
      ],
      "execution_count": 360,
      "outputs": []
    },
    {
      "cell_type": "code",
      "metadata": {
        "id": "ZX_WX3AYG6Mk",
        "colab_type": "code",
        "colab": {}
      },
      "source": [
        "x_train = (x_train - np.min(x_train))/(np.max(x_train) - np.min(x_train))\n",
        "x_test = (x_test - np.min(x_test))/(np.max(x_test) - np.min(x_test))"
      ],
      "execution_count": 359,
      "outputs": []
    },
    {
      "cell_type": "code",
      "metadata": {
        "id": "BWVcEFLpG9Sl",
        "colab_type": "code",
        "colab": {}
      },
      "source": [
        "#init = initializers.GlorotNormal()\n",
        "init = initializers.RandomNormal(stddev=0.1)\n",
        "\n",
        "densenn1 = Sequential()\n",
        "\n",
        "densenn1.add(Dense(1024, activation=\"relu\", kernel_initializer=init))\n",
        "densenn1.add(Dropout(0.25))\n",
        "\n",
        "densenn1.add(Dense(32, activation=\"relu\", kernel_initializer=init))\n",
        "densenn1.add(Dropout(0.25))\n",
        "\n",
        "densenn1.add(Dense(10, activation=\"relu\", kernel_initializer=init))\n",
        "\n",
        "densenn1.add(Dense(3, activation=\"softmax\"))"
      ],
      "execution_count": 394,
      "outputs": []
    },
    {
      "cell_type": "code",
      "metadata": {
        "id": "ca-nD1nnHFel",
        "colab_type": "code",
        "colab": {
          "base_uri": "https://localhost:8080/",
          "height": 1000
        },
        "outputId": "59939c8d-25c3-4dc9-bb61-759dc093ebb0"
      },
      "source": [
        "densenn1.compile(optimizer=\"adam\", loss='sparse_categorical_crossentropy',\n",
        "                metrics=['accuracy'])\n",
        "hist1 = densenn1.fit(x_train, y_train, batch_size=16, epochs=100, validation_data=(x_test, y_test))"
      ],
      "execution_count": 395,
      "outputs": [
        {
          "output_type": "stream",
          "text": [
            "Epoch 1/100\n",
            "270/270 [==============================] - 1s 4ms/step - loss: 1.4480 - accuracy: 0.3412 - val_loss: 1.0985 - val_accuracy: 0.3481\n",
            "Epoch 2/100\n",
            "270/270 [==============================] - 1s 3ms/step - loss: 0.9148 - accuracy: 0.5637 - val_loss: 0.6988 - val_accuracy: 0.7389\n",
            "Epoch 3/100\n",
            "270/270 [==============================] - 1s 4ms/step - loss: 0.7287 - accuracy: 0.6704 - val_loss: 0.6069 - val_accuracy: 0.7833\n",
            "Epoch 4/100\n",
            "270/270 [==============================] - 1s 3ms/step - loss: 0.6677 - accuracy: 0.7361 - val_loss: 0.5418 - val_accuracy: 0.8157\n",
            "Epoch 5/100\n",
            "270/270 [==============================] - 1s 4ms/step - loss: 0.6221 - accuracy: 0.7586 - val_loss: 0.5294 - val_accuracy: 0.8167\n",
            "Epoch 6/100\n",
            "270/270 [==============================] - 1s 4ms/step - loss: 0.5836 - accuracy: 0.7725 - val_loss: 0.5305 - val_accuracy: 0.8009\n",
            "Epoch 7/100\n",
            "270/270 [==============================] - 1s 4ms/step - loss: 0.5479 - accuracy: 0.7937 - val_loss: 0.4786 - val_accuracy: 0.8250\n",
            "Epoch 8/100\n",
            "270/270 [==============================] - 1s 4ms/step - loss: 0.5329 - accuracy: 0.8051 - val_loss: 0.4645 - val_accuracy: 0.8380\n",
            "Epoch 9/100\n",
            "270/270 [==============================] - 1s 4ms/step - loss: 0.5119 - accuracy: 0.8102 - val_loss: 0.4486 - val_accuracy: 0.8481\n",
            "Epoch 10/100\n",
            "270/270 [==============================] - 1s 4ms/step - loss: 0.5054 - accuracy: 0.8125 - val_loss: 0.4296 - val_accuracy: 0.8556\n",
            "Epoch 11/100\n",
            "270/270 [==============================] - 1s 4ms/step - loss: 0.4845 - accuracy: 0.8220 - val_loss: 0.4487 - val_accuracy: 0.8407\n",
            "Epoch 12/100\n",
            "270/270 [==============================] - 1s 4ms/step - loss: 0.4686 - accuracy: 0.8326 - val_loss: 0.4334 - val_accuracy: 0.8528\n",
            "Epoch 13/100\n",
            "270/270 [==============================] - 1s 4ms/step - loss: 0.4608 - accuracy: 0.8380 - val_loss: 0.4064 - val_accuracy: 0.8509\n",
            "Epoch 14/100\n",
            "270/270 [==============================] - 1s 4ms/step - loss: 0.4627 - accuracy: 0.8331 - val_loss: 0.4090 - val_accuracy: 0.8611\n",
            "Epoch 15/100\n",
            "270/270 [==============================] - 1s 3ms/step - loss: 0.4385 - accuracy: 0.8468 - val_loss: 0.3943 - val_accuracy: 0.8602\n",
            "Epoch 16/100\n",
            "270/270 [==============================] - 1s 3ms/step - loss: 0.4153 - accuracy: 0.8532 - val_loss: 0.3833 - val_accuracy: 0.8639\n",
            "Epoch 17/100\n",
            "270/270 [==============================] - 1s 3ms/step - loss: 0.4230 - accuracy: 0.8477 - val_loss: 0.4240 - val_accuracy: 0.8407\n",
            "Epoch 18/100\n",
            "270/270 [==============================] - 1s 4ms/step - loss: 0.4181 - accuracy: 0.8507 - val_loss: 0.3665 - val_accuracy: 0.8685\n",
            "Epoch 19/100\n",
            "270/270 [==============================] - 1s 3ms/step - loss: 0.4118 - accuracy: 0.8500 - val_loss: 0.4631 - val_accuracy: 0.8148\n",
            "Epoch 20/100\n",
            "270/270 [==============================] - 1s 4ms/step - loss: 0.4163 - accuracy: 0.8509 - val_loss: 0.3728 - val_accuracy: 0.8620\n",
            "Epoch 21/100\n",
            "270/270 [==============================] - 1s 3ms/step - loss: 0.4124 - accuracy: 0.8576 - val_loss: 0.4258 - val_accuracy: 0.8361\n",
            "Epoch 22/100\n",
            "270/270 [==============================] - 1s 4ms/step - loss: 0.4012 - accuracy: 0.8516 - val_loss: 0.3738 - val_accuracy: 0.8639\n",
            "Epoch 23/100\n",
            "270/270 [==============================] - 1s 4ms/step - loss: 0.3943 - accuracy: 0.8618 - val_loss: 0.4017 - val_accuracy: 0.8509\n",
            "Epoch 24/100\n",
            "270/270 [==============================] - 1s 3ms/step - loss: 0.3934 - accuracy: 0.8602 - val_loss: 0.3410 - val_accuracy: 0.8741\n",
            "Epoch 25/100\n",
            "270/270 [==============================] - 1s 3ms/step - loss: 0.3721 - accuracy: 0.8704 - val_loss: 0.3593 - val_accuracy: 0.8750\n",
            "Epoch 26/100\n",
            "270/270 [==============================] - 1s 3ms/step - loss: 0.3898 - accuracy: 0.8620 - val_loss: 0.3669 - val_accuracy: 0.8639\n",
            "Epoch 27/100\n",
            "270/270 [==============================] - 1s 3ms/step - loss: 0.3812 - accuracy: 0.8616 - val_loss: 0.3867 - val_accuracy: 0.8509\n",
            "Epoch 28/100\n",
            "270/270 [==============================] - 1s 3ms/step - loss: 0.3776 - accuracy: 0.8701 - val_loss: 0.3802 - val_accuracy: 0.8593\n",
            "Epoch 29/100\n",
            "270/270 [==============================] - 1s 3ms/step - loss: 0.3818 - accuracy: 0.8648 - val_loss: 0.3986 - val_accuracy: 0.8556\n",
            "Epoch 30/100\n",
            "270/270 [==============================] - 1s 3ms/step - loss: 0.3714 - accuracy: 0.8655 - val_loss: 0.3780 - val_accuracy: 0.8583\n",
            "Epoch 31/100\n",
            "270/270 [==============================] - 1s 3ms/step - loss: 0.3533 - accuracy: 0.8685 - val_loss: 0.3819 - val_accuracy: 0.8611\n",
            "Epoch 32/100\n",
            "270/270 [==============================] - 1s 3ms/step - loss: 0.3509 - accuracy: 0.8692 - val_loss: 0.3360 - val_accuracy: 0.8778\n",
            "Epoch 33/100\n",
            "270/270 [==============================] - 1s 3ms/step - loss: 0.3638 - accuracy: 0.8618 - val_loss: 0.3639 - val_accuracy: 0.8648\n",
            "Epoch 34/100\n",
            "270/270 [==============================] - 1s 3ms/step - loss: 0.3577 - accuracy: 0.8715 - val_loss: 0.3804 - val_accuracy: 0.8528\n",
            "Epoch 35/100\n",
            "270/270 [==============================] - 1s 3ms/step - loss: 0.3349 - accuracy: 0.8799 - val_loss: 0.3344 - val_accuracy: 0.8796\n",
            "Epoch 36/100\n",
            "270/270 [==============================] - 1s 3ms/step - loss: 0.3481 - accuracy: 0.8743 - val_loss: 0.3439 - val_accuracy: 0.8722\n",
            "Epoch 37/100\n",
            "270/270 [==============================] - 1s 4ms/step - loss: 0.3331 - accuracy: 0.8806 - val_loss: 0.3354 - val_accuracy: 0.8676\n",
            "Epoch 38/100\n",
            "270/270 [==============================] - 1s 3ms/step - loss: 0.3403 - accuracy: 0.8755 - val_loss: 0.3047 - val_accuracy: 0.8898\n",
            "Epoch 39/100\n",
            "270/270 [==============================] - 1s 3ms/step - loss: 0.3418 - accuracy: 0.8729 - val_loss: 0.3572 - val_accuracy: 0.8676\n",
            "Epoch 40/100\n",
            "270/270 [==============================] - 1s 3ms/step - loss: 0.3317 - accuracy: 0.8782 - val_loss: 0.3374 - val_accuracy: 0.8657\n",
            "Epoch 41/100\n",
            "270/270 [==============================] - 1s 4ms/step - loss: 0.3358 - accuracy: 0.8708 - val_loss: 0.3185 - val_accuracy: 0.8796\n",
            "Epoch 42/100\n",
            "270/270 [==============================] - 1s 3ms/step - loss: 0.3384 - accuracy: 0.8789 - val_loss: 0.3137 - val_accuracy: 0.8926\n",
            "Epoch 43/100\n",
            "270/270 [==============================] - 1s 3ms/step - loss: 0.3203 - accuracy: 0.8806 - val_loss: 0.2904 - val_accuracy: 0.8963\n",
            "Epoch 44/100\n",
            "270/270 [==============================] - 1s 3ms/step - loss: 0.3314 - accuracy: 0.8755 - val_loss: 0.3147 - val_accuracy: 0.8880\n",
            "Epoch 45/100\n",
            "270/270 [==============================] - 1s 4ms/step - loss: 0.3216 - accuracy: 0.8840 - val_loss: 0.3190 - val_accuracy: 0.8824\n",
            "Epoch 46/100\n",
            "270/270 [==============================] - 1s 4ms/step - loss: 0.3110 - accuracy: 0.8819 - val_loss: 0.2941 - val_accuracy: 0.8963\n",
            "Epoch 47/100\n",
            "270/270 [==============================] - 1s 4ms/step - loss: 0.3210 - accuracy: 0.8822 - val_loss: 0.3400 - val_accuracy: 0.8620\n",
            "Epoch 48/100\n",
            "270/270 [==============================] - 1s 3ms/step - loss: 0.3073 - accuracy: 0.8896 - val_loss: 0.3516 - val_accuracy: 0.8602\n",
            "Epoch 49/100\n",
            "270/270 [==============================] - 1s 3ms/step - loss: 0.3123 - accuracy: 0.8822 - val_loss: 0.3124 - val_accuracy: 0.8889\n",
            "Epoch 50/100\n",
            "270/270 [==============================] - 1s 4ms/step - loss: 0.3159 - accuracy: 0.8866 - val_loss: 0.2966 - val_accuracy: 0.8944\n",
            "Epoch 51/100\n",
            "270/270 [==============================] - 1s 3ms/step - loss: 0.3118 - accuracy: 0.8824 - val_loss: 0.3486 - val_accuracy: 0.8694\n",
            "Epoch 52/100\n",
            "270/270 [==============================] - 1s 4ms/step - loss: 0.3114 - accuracy: 0.8868 - val_loss: 0.3044 - val_accuracy: 0.8815\n",
            "Epoch 53/100\n",
            "270/270 [==============================] - 1s 3ms/step - loss: 0.3100 - accuracy: 0.8861 - val_loss: 0.3353 - val_accuracy: 0.8787\n",
            "Epoch 54/100\n",
            "270/270 [==============================] - 1s 3ms/step - loss: 0.3049 - accuracy: 0.8900 - val_loss: 0.2988 - val_accuracy: 0.8963\n",
            "Epoch 55/100\n",
            "270/270 [==============================] - 1s 4ms/step - loss: 0.2953 - accuracy: 0.8931 - val_loss: 0.3061 - val_accuracy: 0.8806\n",
            "Epoch 56/100\n",
            "270/270 [==============================] - 1s 3ms/step - loss: 0.3119 - accuracy: 0.8836 - val_loss: 0.3080 - val_accuracy: 0.8870\n",
            "Epoch 57/100\n",
            "270/270 [==============================] - 1s 4ms/step - loss: 0.2963 - accuracy: 0.8912 - val_loss: 0.2853 - val_accuracy: 0.8981\n",
            "Epoch 58/100\n",
            "270/270 [==============================] - 1s 3ms/step - loss: 0.2995 - accuracy: 0.8889 - val_loss: 0.2771 - val_accuracy: 0.9009\n",
            "Epoch 59/100\n",
            "270/270 [==============================] - 1s 3ms/step - loss: 0.2960 - accuracy: 0.8896 - val_loss: 0.3169 - val_accuracy: 0.8870\n",
            "Epoch 60/100\n",
            "270/270 [==============================] - 1s 4ms/step - loss: 0.3031 - accuracy: 0.8887 - val_loss: 0.3074 - val_accuracy: 0.9009\n",
            "Epoch 61/100\n",
            "270/270 [==============================] - 1s 3ms/step - loss: 0.2872 - accuracy: 0.8963 - val_loss: 0.3268 - val_accuracy: 0.8713\n",
            "Epoch 62/100\n",
            "270/270 [==============================] - 1s 3ms/step - loss: 0.2921 - accuracy: 0.8900 - val_loss: 0.3233 - val_accuracy: 0.8944\n",
            "Epoch 63/100\n",
            "270/270 [==============================] - 1s 4ms/step - loss: 0.2889 - accuracy: 0.8910 - val_loss: 0.2915 - val_accuracy: 0.8991\n",
            "Epoch 64/100\n",
            "270/270 [==============================] - 1s 4ms/step - loss: 0.2962 - accuracy: 0.8926 - val_loss: 0.3277 - val_accuracy: 0.8815\n",
            "Epoch 65/100\n",
            "270/270 [==============================] - 1s 3ms/step - loss: 0.2872 - accuracy: 0.8931 - val_loss: 0.3120 - val_accuracy: 0.8704\n",
            "Epoch 66/100\n",
            "270/270 [==============================] - 1s 4ms/step - loss: 0.2927 - accuracy: 0.8954 - val_loss: 0.3325 - val_accuracy: 0.8648\n",
            "Epoch 67/100\n",
            "270/270 [==============================] - 1s 3ms/step - loss: 0.2908 - accuracy: 0.8910 - val_loss: 0.2964 - val_accuracy: 0.8907\n",
            "Epoch 68/100\n",
            "270/270 [==============================] - 1s 4ms/step - loss: 0.2795 - accuracy: 0.9005 - val_loss: 0.3279 - val_accuracy: 0.8769\n",
            "Epoch 69/100\n",
            "270/270 [==============================] - 1s 3ms/step - loss: 0.2865 - accuracy: 0.8977 - val_loss: 0.2825 - val_accuracy: 0.9037\n",
            "Epoch 70/100\n",
            "270/270 [==============================] - 1s 3ms/step - loss: 0.3070 - accuracy: 0.8875 - val_loss: 0.3133 - val_accuracy: 0.8870\n",
            "Epoch 71/100\n",
            "270/270 [==============================] - 1s 3ms/step - loss: 0.2857 - accuracy: 0.8947 - val_loss: 0.2931 - val_accuracy: 0.8991\n",
            "Epoch 72/100\n",
            "270/270 [==============================] - 1s 3ms/step - loss: 0.2921 - accuracy: 0.8933 - val_loss: 0.2960 - val_accuracy: 0.8935\n",
            "Epoch 73/100\n",
            "270/270 [==============================] - 1s 3ms/step - loss: 0.2799 - accuracy: 0.8921 - val_loss: 0.3009 - val_accuracy: 0.8972\n",
            "Epoch 74/100\n",
            "270/270 [==============================] - 1s 4ms/step - loss: 0.2780 - accuracy: 0.8951 - val_loss: 0.3010 - val_accuracy: 0.8852\n",
            "Epoch 75/100\n",
            "270/270 [==============================] - 1s 4ms/step - loss: 0.2733 - accuracy: 0.8981 - val_loss: 0.2888 - val_accuracy: 0.9065\n",
            "Epoch 76/100\n",
            "270/270 [==============================] - 1s 3ms/step - loss: 0.2707 - accuracy: 0.8935 - val_loss: 0.2937 - val_accuracy: 0.8954\n",
            "Epoch 77/100\n",
            "270/270 [==============================] - 1s 3ms/step - loss: 0.2705 - accuracy: 0.9039 - val_loss: 0.2794 - val_accuracy: 0.9065\n",
            "Epoch 78/100\n",
            "270/270 [==============================] - 1s 3ms/step - loss: 0.2816 - accuracy: 0.8907 - val_loss: 0.3053 - val_accuracy: 0.8880\n",
            "Epoch 79/100\n",
            "270/270 [==============================] - 1s 3ms/step - loss: 0.2723 - accuracy: 0.8975 - val_loss: 0.3112 - val_accuracy: 0.8898\n",
            "Epoch 80/100\n",
            "270/270 [==============================] - 1s 4ms/step - loss: 0.2812 - accuracy: 0.8938 - val_loss: 0.2998 - val_accuracy: 0.8907\n",
            "Epoch 81/100\n",
            "270/270 [==============================] - 1s 4ms/step - loss: 0.2759 - accuracy: 0.8977 - val_loss: 0.2807 - val_accuracy: 0.9000\n",
            "Epoch 82/100\n",
            "270/270 [==============================] - 1s 4ms/step - loss: 0.2710 - accuracy: 0.8963 - val_loss: 0.2936 - val_accuracy: 0.9037\n",
            "Epoch 83/100\n",
            "270/270 [==============================] - 1s 3ms/step - loss: 0.2765 - accuracy: 0.8951 - val_loss: 0.2847 - val_accuracy: 0.9046\n",
            "Epoch 84/100\n",
            "270/270 [==============================] - 1s 3ms/step - loss: 0.2613 - accuracy: 0.9030 - val_loss: 0.2968 - val_accuracy: 0.9019\n",
            "Epoch 85/100\n",
            "270/270 [==============================] - 1s 3ms/step - loss: 0.2682 - accuracy: 0.9019 - val_loss: 0.2830 - val_accuracy: 0.9056\n",
            "Epoch 86/100\n",
            "270/270 [==============================] - 1s 4ms/step - loss: 0.2671 - accuracy: 0.8981 - val_loss: 0.3130 - val_accuracy: 0.8944\n",
            "Epoch 87/100\n",
            "270/270 [==============================] - 1s 3ms/step - loss: 0.2806 - accuracy: 0.8944 - val_loss: 0.2939 - val_accuracy: 0.8963\n",
            "Epoch 88/100\n",
            "270/270 [==============================] - 1s 3ms/step - loss: 0.2650 - accuracy: 0.9023 - val_loss: 0.2771 - val_accuracy: 0.9028\n",
            "Epoch 89/100\n",
            "270/270 [==============================] - 1s 3ms/step - loss: 0.2754 - accuracy: 0.9012 - val_loss: 0.2902 - val_accuracy: 0.9000\n",
            "Epoch 90/100\n",
            "270/270 [==============================] - 1s 3ms/step - loss: 0.2647 - accuracy: 0.9021 - val_loss: 0.2755 - val_accuracy: 0.9130\n",
            "Epoch 91/100\n",
            "270/270 [==============================] - 1s 3ms/step - loss: 0.2659 - accuracy: 0.9051 - val_loss: 0.3204 - val_accuracy: 0.8861\n",
            "Epoch 92/100\n",
            "270/270 [==============================] - 1s 3ms/step - loss: 0.2608 - accuracy: 0.9049 - val_loss: 0.3012 - val_accuracy: 0.9009\n",
            "Epoch 93/100\n",
            "270/270 [==============================] - 1s 3ms/step - loss: 0.2654 - accuracy: 0.9002 - val_loss: 0.2764 - val_accuracy: 0.9083\n",
            "Epoch 94/100\n",
            "270/270 [==============================] - 1s 3ms/step - loss: 0.2657 - accuracy: 0.9025 - val_loss: 0.3032 - val_accuracy: 0.8944\n",
            "Epoch 95/100\n",
            "270/270 [==============================] - 1s 3ms/step - loss: 0.2702 - accuracy: 0.9009 - val_loss: 0.3334 - val_accuracy: 0.8741\n",
            "Epoch 96/100\n",
            "270/270 [==============================] - 1s 3ms/step - loss: 0.2617 - accuracy: 0.9058 - val_loss: 0.2972 - val_accuracy: 0.9000\n",
            "Epoch 97/100\n",
            "270/270 [==============================] - 1s 3ms/step - loss: 0.2533 - accuracy: 0.9035 - val_loss: 0.3042 - val_accuracy: 0.8972\n",
            "Epoch 98/100\n",
            "270/270 [==============================] - 1s 4ms/step - loss: 0.2705 - accuracy: 0.8961 - val_loss: 0.2807 - val_accuracy: 0.9111\n",
            "Epoch 99/100\n",
            "270/270 [==============================] - 1s 4ms/step - loss: 0.2560 - accuracy: 0.9076 - val_loss: 0.2848 - val_accuracy: 0.8991\n",
            "Epoch 100/100\n",
            "270/270 [==============================] - 1s 3ms/step - loss: 0.2538 - accuracy: 0.9065 - val_loss: 0.2885 - val_accuracy: 0.9056\n"
          ],
          "name": "stdout"
        }
      ]
    },
    {
      "cell_type": "code",
      "metadata": {
        "id": "iUMuIec2HHyK",
        "colab_type": "code",
        "colab": {
          "base_uri": "https://localhost:8080/",
          "height": 54
        },
        "outputId": "3554ae69-bf2a-4629-9e85-6e14ff72809b"
      },
      "source": [
        "y_pred = densenn1.predict(x_test)\n",
        "y_pred = np.argmax(y_pred, axis=1)\n",
        "print(\"Accuracy of dense nn:\", metrics.accuracy_score(y_test, y_pred))\n",
        "print(\"F-score of dense nn:\", f1_score(y_test, y_pred, average='macro'))"
      ],
      "execution_count": 396,
      "outputs": [
        {
          "output_type": "stream",
          "text": [
            "Accuracy of dense nn: 0.9055555555555556\n",
            "F-score of dense nn: 0.9063331047272617\n"
          ],
          "name": "stdout"
        }
      ]
    },
    {
      "cell_type": "code",
      "metadata": {
        "id": "rMiBwzv0HVSR",
        "colab_type": "code",
        "colab": {
          "base_uri": "https://localhost:8080/",
          "height": 573
        },
        "outputId": "b62c4f9a-1fae-43d1-9080-7518d62a38d4"
      },
      "source": [
        "# Plot training & validation accuracy values\n",
        "plt.plot(hist1.history['accuracy'])\n",
        "plt.plot(hist1.history['val_accuracy'])\n",
        "plt.title('Model accuracy')\n",
        "plt.ylabel('Accuracy')\n",
        "plt.xlabel('Epoch')\n",
        "plt.legend(['Train', 'Test'], loc='upper left')\n",
        "plt.show()\n",
        "plt.figure()\n",
        "# Plot training & validation loss values\n",
        "plt.plot(hist1.history['loss'])\n",
        "plt.plot(hist1.history['val_loss'])\n",
        "plt.title('Model loss')\n",
        "plt.ylabel('Loss')\n",
        "plt.xlabel('Epoch')\n",
        "plt.legend(['Train', 'Test'], loc='upper left')\n",
        "plt.show()"
      ],
      "execution_count": 397,
      "outputs": [
        {
          "output_type": "display_data",
          "data": {
            "image/png": "[encoded data removed]",
            "text/plain": [
              "<Figure size 432x288 with 1 Axes>"
            ]
          },
          "metadata": {
            "tags": [],
            "needs_background": "light"
          }
        },
        {
          "output_type": "display_data",
          "data": {
            "image/png": "[encoded data removed]",
            "text/plain": [
              "<Figure size 432x288 with 1 Axes>"
            ]
          },
          "metadata": {
            "tags": [],
            "needs_background": "light"
          }
        }
      ]
    }
  ]
}