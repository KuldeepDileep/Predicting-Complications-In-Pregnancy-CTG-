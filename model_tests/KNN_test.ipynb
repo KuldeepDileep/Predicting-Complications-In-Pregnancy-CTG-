{
 "cells": [
  {
   "cell_type": "code",
   "execution_count": 42,
   "metadata": {},
   "outputs": [],
   "source": [
    "from sklearn import svm\n",
    "from sklearn.metrics import f1_score, accuracy_score\n",
    "from sklearn.neighbors import KNeighborsClassifier\n",
    "from sklearn import metrics\n",
    "\n",
    "import numpy as np\n",
    "import matplotlib.pyplot as plt\n",
    "import pandas as pd\n",
    "\n",
    "from cluster_data_creation import data_for_cluster, cluster_extract"
   ]
  },
  {
   "cell_type": "code",
   "execution_count": 47,
   "metadata": {},
   "outputs": [],
   "source": [
    "feat_num = 21\n",
    "classes = 3\n",
    "\n",
    "# load data from df to arrays to train and test\n",
    "\n",
    "def xls2df(df, N, split=0.8):\n",
    "    # strings of feature names for reference\n",
    "    # of 21 features\n",
    "    feat_num = 21\n",
    "    classes = 3\n",
    "    feature_names = np.array([data[i][0] for i in range(1, feat_num+classes)])\n",
    "    \n",
    "    # load all data\n",
    "    all_data = np.array([[data[i][j] for i in range(1, feat_num+1)]\n",
    "                                     for j in range(1, N+1)])\n",
    "    # load all labels\n",
    "    all_labels = np.array([data[23][i] for i in range(1, N+1)])\n",
    "    \n",
    "    # shuffle indices so that no class gets huddled together\n",
    "    idxs = [i for i in range(N)]\n",
    "    np.random.shuffle(idxs)\n",
    "    all_data = all_data[idxs]\n",
    "    all_labels = all_labels[idxs]\n",
    "    \n",
    "    # split into 80: 20 for test: train data\n",
    "    train_num = int(N*split)\n",
    "\n",
    "    # load train data\n",
    "    train_data = all_data[:train_num]\n",
    "    \n",
    "    # load train labels\n",
    "    train_labels = all_labels[:train_num]\n",
    "    \n",
    "    # load test data\n",
    "    test_data = all_data[train_num:]\n",
    "    \n",
    "    # load test labels\n",
    "    test_labels = all_labels[train_num:]\n",
    "    \n",
    "    return train_data, train_labels, test_data, test_labels"
   ]
  },
  {
   "cell_type": "code",
   "execution_count": 41,
   "metadata": {},
   "outputs": [],
   "source": [
    "# original function from: https://gist.github.com/wmlba/89bc2f4556b8ee397ca7a5017b497657#file-outlier_std-py\n",
    "# modified below:\n",
    "\n",
    "# Function to Detection Outlier on one-dimentional datasets.\n",
    "def find_anomalies(data, factor):\n",
    "    # Set upper and lower limit to 'factor' standard deviation\n",
    "    data_std = np.std(data)\n",
    "    data_mean = np.mean(data)\n",
    "    anomaly_cut_off = data_std * factor\n",
    "    \n",
    "    lower_limit  = data_mean - anomaly_cut_off \n",
    "    upper_limit = data_mean + anomaly_cut_off\n",
    "    anomalies = []\n",
    "    idxs = []\n",
    "    i = 0\n",
    "    # Generate outliers\n",
    "    for outlier in data:\n",
    "        if outlier > upper_limit or outlier < lower_limit:\n",
    "            anomalies.append(outlier)\n",
    "            idxs.append(i)\n",
    "        i += 1\n",
    "    return anomalies, idxs\n"
   ]
  },
  {
   "cell_type": "markdown",
   "metadata": {},
   "source": [
    "                                             Test on original dataset"
   ]
  },
  {
   "cell_type": "code",
   "execution_count": 86,
   "metadata": {},
   "outputs": [],
   "source": [
    "# load data\n",
    "xls = pd.ExcelFile('../CTG.xls')\n",
    "data = pd.read_excel(xls, 'Data')\n",
    "\n",
    "x_train, y_train, x_test, y_test = xls2df(data, 2126)"
   ]
  },
  {
   "cell_type": "code",
   "execution_count": 78,
   "metadata": {},
   "outputs": [
    {
     "name": "stdout",
     "output_type": "stream",
     "text": [
      "Max accuracy: 0.9154929577464789\n",
      "Max fscore: 0.8355072463768116\n",
      "Best no. of neighbors, acc to accuracy: 3\n",
      "Best no. of neighbors, acc to f-score: 1\n"
     ]
    },
    {
     "data": {
      "image/png": "[encoded data removed]",
      "text/plain": [
       "<Figure size 432x288 with 1 Axes>"
      ]
     },
     "metadata": {
      "needs_background": "light"
     },
     "output_type": "display_data"
    }
   ],
   "source": [
    "# check for different values of neighbors\n",
    "accs = []\n",
    "fscores = []\n",
    "x1, x2 = 1, 25\n",
    "best_acc_n = x1\n",
    "best_fs_n = x1\n",
    "\n",
    "for i in range(x1, x2):\n",
    "    model = KNeighborsClassifier(n_neighbors=i)\n",
    "    model.fit(x_train,y_train)\n",
    "    y_pred = model.predict(x_test)\n",
    "    accs.append(metrics.accuracy_score(y_test, y_pred))\n",
    "    fscores.append(f1_score(y_test, y_pred, average='macro'))\n",
    "    if accs[-1] > accs[best_acc_n-x1]:\n",
    "        best_acc_n = i\n",
    "    if fscores[-1] > accs[best_fs_n-x1]:\n",
    "        best_fs_n = i\n",
    "\n",
    "plt.plot([i for i in range(x1, x2)], accs)\n",
    "plt.plot([i for i in range(x1, x2)], fscores)\n",
    "plt.legend(['Acc', 'F-score'])\n",
    "print(\"Max accuracy:\", max(accs))\n",
    "print(\"Max fscore:\", max(fscores))\n",
    "print(\"Best no. of neighbors, acc to accuracy:\", best_acc_n)\n",
    "print(\"Best no. of neighbors, acc to f-score:\", best_fs_n)"
   ]
  },
  {
   "cell_type": "markdown",
   "metadata": {},
   "source": [
    "                                            Test on cleaned original data"
   ]
  },
  {
   "cell_type": "code",
   "execution_count": 87,
   "metadata": {},
   "outputs": [
    {
     "name": "stdout",
     "output_type": "stream",
     "text": [
      "(1457, 21) (365, 21) (1457,) (365,)\n"
     ]
    }
   ],
   "source": [
    "# get all data for original data where:\n",
    "N = 2126\n",
    "\n",
    "data_features = np.array([[data[i][j] for i in range(1, feat_num+1)]\n",
    "                                 for j in range(1, N+1)])\n",
    "data_labels = np.array([data[23][i] for i in range(1, N+1)])\n",
    "\n",
    "clusters = cluster_extract(data_features, data_labels)\n",
    "normals = clusters.get_cluster_from_data(1)\n",
    "suspects = clusters.get_cluster_from_data(2)\n",
    "patho = clusters.get_cluster_from_data(3)\n",
    "\n",
    "idxs = []\n",
    "\n",
    "for i in range(21):\n",
    "    idx = find_anomalies(normals[:,i], 3)[1]\n",
    "    for i in idx:\n",
    "        idxs.append(i)\n",
    "\n",
    "for i in range(21):\n",
    "    idx = find_anomalies(suspects[:,i], 3)[1]\n",
    "    for i in idx:\n",
    "        idxs.append(i)\n",
    "        \n",
    "for i in range(21):\n",
    "    idx = find_anomalies(patho[:,i], 3)[1]\n",
    "    for i in idx:\n",
    "        idxs.append(i)\n",
    "\n",
    "idxs = np.array(idxs)\n",
    "idxs = np.unique(idxs)\n",
    "\n",
    "new_data = np.delete(data_features, idxs, axis=0)\n",
    "new_labels = np.delete(data_labels, idxs, axis=0)\n",
    "new_labels = new_labels - 1\n",
    "new_N = new_data.shape[0]\n",
    "new_train = int(new_N*0.8)\n",
    "new_xtrain = new_data[:new_train]/np.max(new_data[:new_train])\n",
    "new_ytrain = new_labels[:new_train]\n",
    "new_xtest = new_data[new_train:]/np.max(new_data[new_train:])\n",
    "new_ytest = new_labels[new_train:]\n",
    "print(new_xtrain.shape, new_xtest.shape, new_ytrain.shape, new_ytest.shape)"
   ]
  },
  {
   "cell_type": "code",
   "execution_count": 88,
   "metadata": {},
   "outputs": [
    {
     "name": "stdout",
     "output_type": "stream",
     "text": [
      "Max accuracy: 0.8575342465753425\n",
      "Max fscore: 0.6164698162729659\n",
      "Best no. of neighbors, acc to accuracy: 4\n",
      "Best no. of neighbors, acc to f-score: 3\n"
     ]
    },
    {
     "data": {
      "image/png": "[encoded data removed]",
      "text/plain": [
       "<Figure size 432x288 with 1 Axes>"
      ]
     },
     "metadata": {
      "needs_background": "light"
     },
     "output_type": "display_data"
    }
   ],
   "source": [
    "# check for different values of neighbors\n",
    "accs = []\n",
    "fscores = []\n",
    "x1, x2 = 1, 55\n",
    "best_acc_n = x1\n",
    "best_fs_n = x1\n",
    "\n",
    "for i in range(x1, x2):\n",
    "    model = KNeighborsClassifier(n_neighbors=i)\n",
    "    model.fit(new_xtrain,new_ytrain)\n",
    "    y_pred = model.predict(new_xtest)\n",
    "    accs.append(metrics.accuracy_score(new_ytest, y_pred))\n",
    "    fscores.append(f1_score(new_ytest, y_pred, average='macro'))\n",
    "    if accs[-1] > accs[best_acc_n-x1]:\n",
    "        best_acc_n = i\n",
    "    if fscores[-1] > fscores[best_fs_n-x1]:\n",
    "        best_fs_n = i\n",
    "\n",
    "plt.plot([i for i in range(x1, x2)], accs)\n",
    "plt.plot([i for i in range(x1, x2)], fscores)\n",
    "plt.legend(['Acc', 'F-score'])\n",
    "print(\"Max accuracy:\", max(accs))\n",
    "print(\"Max fscore:\", max(fscores))\n",
    "print(\"Best no. of neighbors, acc to accuracy:\", best_acc_n)\n",
    "print(\"Best no. of neighbors, acc to f-score:\", best_fs_n)"
   ]
  },
  {
   "cell_type": "markdown",
   "metadata": {},
   "source": [
    "# New Artificial Data "
   ]
  },
  {
   "cell_type": "code",
   "execution_count": 91,
   "metadata": {},
   "outputs": [],
   "source": [
    "# load data\n",
    "xls = pd.ExcelFile('../data_creation/artificial_FINAL.xlsx')\n",
    "data = pd.read_excel(xls, 'Sheet1')\n",
    "\n",
    "x_train, y_train, x_test, y_test = xls2df(data, 4055)"
   ]
  },
  {
   "cell_type": "code",
   "execution_count": 90,
   "metadata": {},
   "outputs": [
    {
     "name": "stdout",
     "output_type": "stream",
     "text": [
      "Max accuracy: 0.9112207151664612\n",
      "Max fscore: 0.9086290271420632\n",
      "Best no. of neighbors, acc to accuracy: 3\n",
      "Best no. of neighbors, acc to f-score: 5\n"
     ]
    },
    {
     "data": {
      "image/png": "[encoded data removed]",
      "text/plain": [
       "<Figure size 432x288 with 1 Axes>"
      ]
     },
     "metadata": {
      "needs_background": "light"
     },
     "output_type": "display_data"
    }
   ],
   "source": [
    "# check for different values of neighbors\n",
    "accs = []\n",
    "fscores = []\n",
    "x1, x2 = 1, 25\n",
    "best_acc_n = x1\n",
    "best_fs_n = x1\n",
    "\n",
    "for i in range(x1, x2):\n",
    "    model = KNeighborsClassifier(n_neighbors=i)\n",
    "    model.fit(x_train,y_train)\n",
    "    y_pred = model.predict(x_test)\n",
    "    accs.append(metrics.accuracy_score(y_test, y_pred))\n",
    "    fscores.append(f1_score(y_test, y_pred, average='macro'))\n",
    "    if accs[-1] > accs[best_acc_n-x1]:\n",
    "        best_acc_n = i\n",
    "    if fscores[-1] > fscores[best_fs_n-x1]:\n",
    "        best_fs_n = i\n",
    "\n",
    "plt.plot([i for i in range(x1, x2)], accs)\n",
    "plt.plot([i for i in range(x1, x2)], fscores)\n",
    "plt.legend(['Acc', 'F-score'])\n",
    "print(\"Max accuracy:\", max(accs))\n",
    "print(\"Max fscore:\", max(fscores))\n",
    "print(\"Best no. of neighbors, acc to accuracy:\", best_acc_n)\n",
    "print(\"Best no. of neighbors, acc to f-score:\", best_fs_n)"
   ]
  },
  {
   "cell_type": "markdown",
   "metadata": {},
   "source": [
    "                                            Test on artificial cleaned data"
   ]
  },
  {
   "cell_type": "code",
   "execution_count": 92,
   "metadata": {},
   "outputs": [
    {
     "name": "stdout",
     "output_type": "stream",
     "text": [
      "(3040, 21) (761, 21) (3040,) (761,)\n"
     ]
    }
   ],
   "source": [
    "# get all data for original data where:\n",
    "N = 4055\n",
    "\n",
    "data_features = np.array([[data[i][j] for i in range(1, feat_num+1)]\n",
    "                                 for j in range(1, N+1)])\n",
    "data_labels = np.array([data[23][i] for i in range(1, N+1)])\n",
    "\n",
    "clusters = cluster_extract(data_features, data_labels)\n",
    "normals = clusters.get_cluster_from_data(1)\n",
    "suspects = clusters.get_cluster_from_data(2)\n",
    "patho = clusters.get_cluster_from_data(3)\n",
    "\n",
    "idxs = []\n",
    "\n",
    "for i in range(21):\n",
    "    idx = find_anomalies(normals[:,i], 3)[1]\n",
    "    for i in idx:\n",
    "        idxs.append(i)\n",
    "\n",
    "for i in range(21):\n",
    "    idx = find_anomalies(suspects[:,i], 3)[1]\n",
    "    for i in idx:\n",
    "        idxs.append(i)\n",
    "        \n",
    "for i in range(21):\n",
    "    idx = find_anomalies(patho[:,i], 3)[1]\n",
    "    for i in idx:\n",
    "        idxs.append(i)\n",
    "\n",
    "idxs = np.array(idxs)\n",
    "idxs = np.unique(idxs)\n",
    "\n",
    "new_data = np.delete(data_features, idxs, axis=0)\n",
    "new_labels = np.delete(data_labels, idxs, axis=0)\n",
    "new_labels = new_labels - 1\n",
    "new_N = new_data.shape[0]\n",
    "new_train = int(new_N*0.8)\n",
    "new_xtrain = new_data[:new_train]/np.max(new_data[:new_train])\n",
    "new_ytrain = new_labels[:new_train]\n",
    "new_xtest = new_data[new_train:]/np.max(new_data[new_train:])\n",
    "new_ytest = new_labels[new_train:]\n",
    "print(new_xtrain.shape, new_xtest.shape, new_ytrain.shape, new_ytest.shape)"
   ]
  },
  {
   "cell_type": "code",
   "execution_count": 93,
   "metadata": {},
   "outputs": [
    {
     "name": "stdout",
     "output_type": "stream",
     "text": [
      "Max accuracy: 0.7634691195795007\n",
      "Max fscore: 0.2886239443616493\n",
      "Best no. of neighbors, acc to accuracy: 1\n",
      "Best no. of neighbors, acc to f-score: 1\n"
     ]
    },
    {
     "data": {
      "image/png": "[encoded data removed]",
      "text/plain": [
       "<Figure size 432x288 with 1 Axes>"
      ]
     },
     "metadata": {
      "needs_background": "light"
     },
     "output_type": "display_data"
    }
   ],
   "source": [
    "# check for different values of neighbors\n",
    "accs = []\n",
    "fscores = []\n",
    "x1, x2 = 1, 55\n",
    "best_acc_n = x1\n",
    "best_fs_n = x1\n",
    "\n",
    "for i in range(x1, x2):\n",
    "    model = KNeighborsClassifier(n_neighbors=i)\n",
    "    model.fit(new_xtrain,new_ytrain)\n",
    "    y_pred = model.predict(new_xtest)\n",
    "    accs.append(metrics.accuracy_score(new_ytest, y_pred))\n",
    "    fscores.append(f1_score(new_ytest, y_pred, average='macro'))\n",
    "    if accs[-1] > accs[best_acc_n-x1]:\n",
    "        best_acc_n = i\n",
    "    if fscores[-1] > fscores[best_fs_n-x1]:\n",
    "        best_fs_n = i\n",
    "\n",
    "plt.plot([i for i in range(x1, x2)], accs)\n",
    "plt.plot([i for i in range(x1, x2)], fscores)\n",
    "plt.legend(['Acc', 'F-score'])\n",
    "print(\"Max accuracy:\", max(accs))\n",
    "print(\"Max fscore:\", max(fscores))\n",
    "print(\"Best no. of neighbors, acc to accuracy:\", best_acc_n)\n",
    "print(\"Best no. of neighbors, acc to f-score:\", best_fs_n)"
   ]
  }
 ],
 "metadata": {
  "kernelspec": {
   "display_name": "Python 3",
   "language": "python",
   "name": "python3"
  },
  "language_info": {
   "codemirror_mode": {
    "name": "ipython",
    "version": 3
   },
   "file_extension": ".py",
   "mimetype": "text/x-python",
   "name": "python",
   "nbconvert_exporter": "python",
   "pygments_lexer": "ipython3",
   "version": "3.7.7"
  }
 },
 "nbformat": 4,
 "nbformat_minor": 4
}
