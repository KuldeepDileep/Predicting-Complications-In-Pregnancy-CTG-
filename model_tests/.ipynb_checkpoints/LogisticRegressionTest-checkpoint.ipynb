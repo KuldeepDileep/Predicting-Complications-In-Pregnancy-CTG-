{
 "cells": [
  {
   "cell_type": "code",
   "execution_count": 13,
   "metadata": {
    "colab": {},
    "colab_type": "code",
    "id": "WkiYKPXbtZR0"
   },
   "outputs": [],
   "source": [
    "import tensorflow \n",
    "from tensorflow.keras.models import Sequential\n",
    "from tensorflow.keras.layers import Dense, Conv2D, MaxPool2D , Flatten, GlobalAveragePooling2D, Activation, Reshape, LeakyReLU, Dropout\n",
    "from tensorflow.keras import optimizers\n",
    "from tensorflow.keras import regularizers\n",
    "from sklearn import svm\n",
    "from sklearn import metrics\n",
    "from sklearn.metrics import f1_score, accuracy_score\n",
    "import numpy as np\n",
    "import matplotlib.pyplot as plt\n",
    "import pandas as pd"
   ]
  },
  {
   "cell_type": "code",
   "execution_count": 14,
   "metadata": {
    "colab": {},
    "colab_type": "code",
    "id": "tglvlpPMt4s3"
   },
   "outputs": [],
   "source": [
    "feat_num = 21\n",
    "classes = 3\n",
    "\n",
    "# load data from df to arrays to train and test\n",
    "\n",
    "def xls2df(df, N, split=0.8):\n",
    "    # strings of feature names for reference\n",
    "    # of 21 features\n",
    "    feat_num = 21\n",
    "    classes = 3\n",
    "    feature_names = np.array([data[i][0] for i in range(1, feat_num+classes)])\n",
    "    \n",
    "    # load all data\n",
    "    all_data = np.array([[data[i][j] for i in range(1, feat_num+1)]\n",
    "                                     for j in range(1, N+1)])\n",
    "    # load all labels\n",
    "    all_labels = np.array([data[23][i] for i in range(1, N+1)])\n",
    "    \n",
    "    # shuffle indices so that no class gets huddled together\n",
    "    idxs = [i for i in range(N)]\n",
    "    np.random.shuffle(idxs)\n",
    "    all_data = all_data[idxs]\n",
    "    all_labels = all_labels[idxs]\n",
    "    \n",
    "    # split into 80: 20 for test: train data\n",
    "    train_num = int(N*split)\n",
    "\n",
    "    # load train data\n",
    "    train_data = all_data[:train_num]\n",
    "    \n",
    "    # load train labels\n",
    "    train_labels = all_labels[:train_num]\n",
    "    \n",
    "    # load test data\n",
    "    test_data = all_data[train_num:]\n",
    "    \n",
    "    # load test labels\n",
    "    test_labels = all_labels[train_num:]\n",
    "    \n",
    "    return train_data, train_labels, test_data, test_labels"
   ]
  },
  {
   "cell_type": "markdown",
   "metadata": {
    "colab_type": "text",
    "id": "0-BsB2GXtskF"
   },
   "source": [
    "# Test on original dataset"
   ]
  },
  {
   "cell_type": "code",
   "execution_count": 5,
   "metadata": {
    "colab": {},
    "colab_type": "code",
    "id": "FnBigT9QtrSQ"
   },
   "outputs": [],
   "source": [
    "# load data\n",
    "xls = pd.ExcelFile('../CTG.xls')\n",
    "data = pd.read_excel(xls, 'Data')\n",
    "\n",
    "x_train, y_train, x_test, y_test = xls2df(data, 2126)\n",
    "y_train = y_train-1\n",
    "y_test = y_test - 1"
   ]
  },
  {
   "cell_type": "code",
   "execution_count": 6,
   "metadata": {
    "colab": {},
    "colab_type": "code",
    "id": "0kG8nhqmuDeF"
   },
   "outputs": [],
   "source": [
    "lrmodel = Sequential()\n",
    "\n",
    "lrmodel.add(Dense(3, activation=\"softmax\"))"
   ]
  },
  {
   "cell_type": "code",
   "execution_count": null,
   "metadata": {
    "colab": {
     "base_uri": "https://localhost:8080/",
     "height": 1000
    },
    "colab_type": "code",
    "id": "gQcAJs28uFgi",
    "outputId": "327eee6c-bc74-465a-9251-c38d3ba8f653"
   },
   "outputs": [
    {
     "name": "stdout",
     "output_type": "stream",
     "text": [
      "Epoch 1/100\n",
      "14/14 [==============================] - 0s 11ms/step - loss: 14.0097 - accuracy: 0.7865 - val_loss: 11.4076 - val_accuracy: 0.7629\n",
      "Epoch 2/100\n",
      "14/14 [==============================] - 0s 5ms/step - loss: 9.0358 - accuracy: 0.7382 - val_loss: 7.5539 - val_accuracy: 0.6526\n",
      "Epoch 3/100\n",
      "14/14 [==============================] - 0s 5ms/step - loss: 7.3163 - accuracy: 0.6159 - val_loss: 6.8541 - val_accuracy: 0.5986\n",
      "Epoch 4/100\n",
      "14/14 [==============================] - 0s 5ms/step - loss: 6.5443 - accuracy: 0.6271 - val_loss: 6.1604 - val_accuracy: 0.6596\n",
      "Epoch 5/100\n",
      "14/14 [==============================] - 0s 5ms/step - loss: 5.7611 - accuracy: 0.6671 - val_loss: 5.3517 - val_accuracy: 0.6526\n",
      "Epoch 6/100\n",
      "14/14 [==============================] - 0s 5ms/step - loss: 4.9652 - accuracy: 0.6500 - val_loss: 4.5785 - val_accuracy: 0.6455\n",
      "Epoch 7/100\n",
      "14/14 [==============================] - 0s 5ms/step - loss: 4.2540 - accuracy: 0.6441 - val_loss: 3.8969 - val_accuracy: 0.6526\n",
      "Epoch 8/100\n",
      "14/14 [==============================] - 0s 4ms/step - loss: 3.5644 - accuracy: 0.6606 - val_loss: 3.2971 - val_accuracy: 0.6455\n",
      "Epoch 9/100\n",
      "14/14 [==============================] - 0s 5ms/step - loss: 3.0062 - accuracy: 0.6653 - val_loss: 2.8074 - val_accuracy: 0.6854\n",
      "Epoch 10/100\n",
      "14/14 [==============================] - 0s 4ms/step - loss: 2.5937 - accuracy: 0.6924 - val_loss: 2.4706 - val_accuracy: 0.6808\n",
      "Epoch 11/100\n",
      "14/14 [==============================] - 0s 4ms/step - loss: 2.3103 - accuracy: 0.7065 - val_loss: 2.2314 - val_accuracy: 0.7066\n",
      "Epoch 12/100\n",
      "14/14 [==============================] - 0s 5ms/step - loss: 2.1106 - accuracy: 0.7206 - val_loss: 2.0540 - val_accuracy: 0.7230\n",
      "Epoch 13/100\n",
      "14/14 [==============================] - 0s 4ms/step - loss: 1.9709 - accuracy: 0.7406 - val_loss: 1.9279 - val_accuracy: 0.7347\n",
      "Epoch 14/100\n",
      "14/14 [==============================] - 0s 4ms/step - loss: 1.8584 - accuracy: 0.7494 - val_loss: 1.8323 - val_accuracy: 0.7465\n",
      "Epoch 15/100\n",
      "14/14 [==============================] - 0s 5ms/step - loss: 1.7661 - accuracy: 0.7688 - val_loss: 1.7543 - val_accuracy: 0.7629\n",
      "Epoch 16/100\n",
      "14/14 [==============================] - 0s 5ms/step - loss: 1.7079 - accuracy: 0.7718 - val_loss: 1.6990 - val_accuracy: 0.7700\n",
      "Epoch 17/100\n",
      "14/14 [==============================] - 0s 4ms/step - loss: 1.6382 - accuracy: 0.7747 - val_loss: 1.6396 - val_accuracy: 0.7676\n",
      "Epoch 18/100\n",
      "14/14 [==============================] - 0s 4ms/step - loss: 1.6118 - accuracy: 0.7688 - val_loss: 1.5975 - val_accuracy: 0.7793\n",
      "Epoch 19/100\n",
      "14/14 [==============================] - 0s 4ms/step - loss: 1.5599 - accuracy: 0.7806 - val_loss: 1.5309 - val_accuracy: 0.7817\n",
      "Epoch 20/100\n",
      "14/14 [==============================] - 0s 5ms/step - loss: 1.4971 - accuracy: 0.7841 - val_loss: 1.4845 - val_accuracy: 0.7817\n",
      "Epoch 21/100\n",
      "14/14 [==============================] - 0s 4ms/step - loss: 1.4569 - accuracy: 0.7871 - val_loss: 1.4570 - val_accuracy: 0.7817\n",
      "Epoch 22/100\n",
      "14/14 [==============================] - 0s 6ms/step - loss: 1.4219 - accuracy: 0.7912 - val_loss: 1.4136 - val_accuracy: 0.7817\n",
      "Epoch 23/100\n",
      "14/14 [==============================] - 0s 6ms/step - loss: 1.3836 - accuracy: 0.7929 - val_loss: 1.3738 - val_accuracy: 0.7911\n",
      "Epoch 24/100\n",
      "14/14 [==============================] - 0s 5ms/step - loss: 1.3542 - accuracy: 0.7947 - val_loss: 1.3379 - val_accuracy: 0.7958\n",
      "Epoch 25/100\n",
      "14/14 [==============================] - 0s 6ms/step - loss: 1.3177 - accuracy: 0.7971 - val_loss: 1.2952 - val_accuracy: 0.7934\n",
      "Epoch 26/100\n",
      "14/14 [==============================] - 0s 5ms/step - loss: 1.2921 - accuracy: 0.7888 - val_loss: 1.2685 - val_accuracy: 0.7887\n",
      "Epoch 27/100\n",
      "14/14 [==============================] - 0s 5ms/step - loss: 1.2488 - accuracy: 0.8000 - val_loss: 1.2394 - val_accuracy: 0.7981\n",
      "Epoch 28/100\n",
      "14/14 [==============================] - 0s 5ms/step - loss: 1.2271 - accuracy: 0.7988 - val_loss: 1.1995 - val_accuracy: 0.8005\n",
      "Epoch 29/100\n",
      "14/14 [==============================] - 0s 4ms/step - loss: 1.2037 - accuracy: 0.8024 - val_loss: 1.1872 - val_accuracy: 0.7981\n",
      "Epoch 30/100\n",
      "14/14 [==============================] - 0s 4ms/step - loss: 1.1680 - accuracy: 0.8000 - val_loss: 1.1546 - val_accuracy: 0.7700\n",
      "Epoch 31/100\n",
      "14/14 [==============================] - 0s 5ms/step - loss: 1.1513 - accuracy: 0.8006 - val_loss: 1.1172 - val_accuracy: 0.7887\n",
      "Epoch 32/100\n",
      "14/14 [==============================] - 0s 5ms/step - loss: 1.1199 - accuracy: 0.8041 - val_loss: 1.0869 - val_accuracy: 0.7958\n",
      "Epoch 33/100\n",
      "14/14 [==============================] - 0s 4ms/step - loss: 1.0990 - accuracy: 0.8012 - val_loss: 1.0618 - val_accuracy: 0.7887\n",
      "Epoch 34/100\n",
      "14/14 [==============================] - 0s 4ms/step - loss: 1.0836 - accuracy: 0.8035 - val_loss: 1.0406 - val_accuracy: 0.7958\n",
      "Epoch 35/100\n",
      "14/14 [==============================] - 0s 4ms/step - loss: 1.0517 - accuracy: 0.8059 - val_loss: 1.0174 - val_accuracy: 0.7840\n",
      "Epoch 36/100\n",
      "14/14 [==============================] - 0s 4ms/step - loss: 1.0329 - accuracy: 0.8041 - val_loss: 1.0046 - val_accuracy: 0.7934\n",
      "Epoch 37/100\n",
      "14/14 [==============================] - 0s 5ms/step - loss: 1.0196 - accuracy: 0.8012 - val_loss: 0.9991 - val_accuracy: 0.7958\n",
      "Epoch 38/100\n",
      "14/14 [==============================] - 0s 5ms/step - loss: 1.0031 - accuracy: 0.8012 - val_loss: 0.9633 - val_accuracy: 0.7911\n",
      "Epoch 39/100\n",
      "14/14 [==============================] - 0s 5ms/step - loss: 0.9804 - accuracy: 0.7959 - val_loss: 0.9416 - val_accuracy: 0.7958\n",
      "Epoch 40/100\n",
      "14/14 [==============================] - 0s 5ms/step - loss: 0.9650 - accuracy: 0.8012 - val_loss: 0.9398 - val_accuracy: 0.8028\n",
      "Epoch 41/100\n",
      "14/14 [==============================] - 0s 5ms/step - loss: 0.9576 - accuracy: 0.8041 - val_loss: 0.9162 - val_accuracy: 0.7887\n",
      "Epoch 42/100\n",
      "14/14 [==============================] - 0s 5ms/step - loss: 0.9348 - accuracy: 0.8041 - val_loss: 0.8927 - val_accuracy: 0.7981\n",
      "Epoch 43/100\n",
      "14/14 [==============================] - 0s 4ms/step - loss: 0.9266 - accuracy: 0.8018 - val_loss: 0.8962 - val_accuracy: 0.8028\n",
      "Epoch 44/100\n",
      "14/14 [==============================] - 0s 4ms/step - loss: 0.9447 - accuracy: 0.8053 - val_loss: 0.8624 - val_accuracy: 0.8005\n",
      "Epoch 45/100\n",
      "14/14 [==============================] - 0s 4ms/step - loss: 0.9179 - accuracy: 0.8071 - val_loss: 0.8542 - val_accuracy: 0.7981\n",
      "Epoch 46/100\n",
      "14/14 [==============================] - 0s 5ms/step - loss: 0.8944 - accuracy: 0.8076 - val_loss: 0.8339 - val_accuracy: 0.7981\n",
      "Epoch 47/100\n",
      "14/14 [==============================] - 0s 4ms/step - loss: 0.8788 - accuracy: 0.8118 - val_loss: 0.8245 - val_accuracy: 0.7770\n",
      "Epoch 48/100\n",
      "14/14 [==============================] - 0s 4ms/step - loss: 0.8680 - accuracy: 0.8041 - val_loss: 0.8300 - val_accuracy: 0.7723\n",
      "Epoch 49/100\n",
      "14/14 [==============================] - 0s 5ms/step - loss: 0.8535 - accuracy: 0.8106 - val_loss: 0.8012 - val_accuracy: 0.7864\n",
      "Epoch 50/100\n",
      "14/14 [==============================] - 0s 5ms/step - loss: 0.8430 - accuracy: 0.8088 - val_loss: 0.7823 - val_accuracy: 0.7793\n",
      "Epoch 51/100\n",
      "14/14 [==============================] - 0s 5ms/step - loss: 0.8381 - accuracy: 0.8106 - val_loss: 0.7879 - val_accuracy: 0.7981\n",
      "Epoch 52/100\n",
      "14/14 [==============================] - 0s 4ms/step - loss: 0.8263 - accuracy: 0.8100 - val_loss: 0.7659 - val_accuracy: 0.7723\n",
      "Epoch 53/100\n",
      "14/14 [==============================] - 0s 4ms/step - loss: 0.8308 - accuracy: 0.8012 - val_loss: 0.8334 - val_accuracy: 0.7606\n",
      "Epoch 54/100\n",
      "14/14 [==============================] - 0s 4ms/step - loss: 0.8329 - accuracy: 0.8076 - val_loss: 0.7414 - val_accuracy: 0.7700\n",
      "Epoch 55/100\n",
      "14/14 [==============================] - 0s 4ms/step - loss: 0.8116 - accuracy: 0.8053 - val_loss: 0.7562 - val_accuracy: 0.7911\n",
      "Epoch 56/100\n",
      "14/14 [==============================] - 0s 4ms/step - loss: 0.7965 - accuracy: 0.8224 - val_loss: 0.7249 - val_accuracy: 0.7793\n",
      "Epoch 57/100\n",
      "14/14 [==============================] - 0s 4ms/step - loss: 0.7961 - accuracy: 0.8171 - val_loss: 0.7467 - val_accuracy: 0.7793\n",
      "Epoch 58/100\n",
      "14/14 [==============================] - 0s 4ms/step - loss: 0.7921 - accuracy: 0.8153 - val_loss: 0.7386 - val_accuracy: 0.7606\n",
      "Epoch 59/100\n",
      "14/14 [==============================] - 0s 5ms/step - loss: 0.7866 - accuracy: 0.8035 - val_loss: 0.7133 - val_accuracy: 0.7676\n",
      "Epoch 60/100\n",
      "14/14 [==============================] - 0s 4ms/step - loss: 0.7771 - accuracy: 0.8082 - val_loss: 0.7186 - val_accuracy: 0.7676\n",
      "Epoch 61/100\n",
      "14/14 [==============================] - 0s 4ms/step - loss: 0.7775 - accuracy: 0.8159 - val_loss: 0.7169 - val_accuracy: 0.7606\n",
      "Epoch 62/100\n",
      "14/14 [==============================] - 0s 4ms/step - loss: 0.7847 - accuracy: 0.8041 - val_loss: 0.7334 - val_accuracy: 0.7770\n",
      "Epoch 63/100\n",
      "14/14 [==============================] - 0s 4ms/step - loss: 0.7705 - accuracy: 0.8159 - val_loss: 0.7189 - val_accuracy: 0.7723\n",
      "Epoch 64/100\n",
      "14/14 [==============================] - 0s 5ms/step - loss: 0.7657 - accuracy: 0.8188 - val_loss: 0.6835 - val_accuracy: 0.7864\n",
      "Epoch 65/100\n",
      "14/14 [==============================] - 0s 4ms/step - loss: 0.7482 - accuracy: 0.8129 - val_loss: 0.6775 - val_accuracy: 0.7746\n",
      "Epoch 66/100\n",
      "14/14 [==============================] - 0s 5ms/step - loss: 0.7444 - accuracy: 0.8171 - val_loss: 0.6670 - val_accuracy: 0.7746\n",
      "Epoch 67/100\n",
      "14/14 [==============================] - 0s 5ms/step - loss: 0.7680 - accuracy: 0.8076 - val_loss: 0.6878 - val_accuracy: 0.7746\n",
      "Epoch 68/100\n",
      "14/14 [==============================] - 0s 5ms/step - loss: 0.7621 - accuracy: 0.8112 - val_loss: 0.7036 - val_accuracy: 0.7676\n",
      "Epoch 69/100\n",
      "14/14 [==============================] - 0s 5ms/step - loss: 0.7593 - accuracy: 0.7976 - val_loss: 0.6894 - val_accuracy: 0.7746\n",
      "Epoch 70/100\n",
      "14/14 [==============================] - 0s 4ms/step - loss: 0.7396 - accuracy: 0.8129 - val_loss: 0.6428 - val_accuracy: 0.7817\n",
      "Epoch 71/100\n",
      "14/14 [==============================] - 0s 4ms/step - loss: 0.7317 - accuracy: 0.8076 - val_loss: 0.6503 - val_accuracy: 0.7676\n",
      "Epoch 72/100\n",
      "14/14 [==============================] - 0s 4ms/step - loss: 0.7417 - accuracy: 0.8000 - val_loss: 0.6594 - val_accuracy: 0.7887\n",
      "Epoch 73/100\n",
      "14/14 [==============================] - 0s 4ms/step - loss: 0.7215 - accuracy: 0.8171 - val_loss: 0.6324 - val_accuracy: 0.7700\n",
      "Epoch 74/100\n",
      "14/14 [==============================] - 0s 5ms/step - loss: 0.7087 - accuracy: 0.8147 - val_loss: 0.6659 - val_accuracy: 0.7700\n",
      "Epoch 75/100\n",
      "14/14 [==============================] - 0s 5ms/step - loss: 0.7320 - accuracy: 0.8112 - val_loss: 0.6851 - val_accuracy: 0.7723\n",
      "Epoch 76/100\n",
      "14/14 [==============================] - 0s 5ms/step - loss: 0.7363 - accuracy: 0.8135 - val_loss: 0.6450 - val_accuracy: 0.7676\n",
      "Epoch 77/100\n",
      "14/14 [==============================] - 0s 4ms/step - loss: 0.7081 - accuracy: 0.8141 - val_loss: 0.6455 - val_accuracy: 0.7723\n",
      "Epoch 78/100\n",
      "14/14 [==============================] - 0s 5ms/step - loss: 0.7045 - accuracy: 0.8100 - val_loss: 0.6211 - val_accuracy: 0.7817\n",
      "Epoch 79/100\n",
      "14/14 [==============================] - 0s 4ms/step - loss: 0.6936 - accuracy: 0.8165 - val_loss: 0.6201 - val_accuracy: 0.7793\n",
      "Epoch 80/100\n",
      "14/14 [==============================] - 0s 5ms/step - loss: 0.6947 - accuracy: 0.8153 - val_loss: 0.6165 - val_accuracy: 0.7793\n",
      "Epoch 81/100\n",
      "14/14 [==============================] - 0s 4ms/step - loss: 0.6906 - accuracy: 0.8171 - val_loss: 0.6202 - val_accuracy: 0.7840\n",
      "Epoch 82/100\n",
      "14/14 [==============================] - 0s 4ms/step - loss: 0.6896 - accuracy: 0.8147 - val_loss: 0.6107 - val_accuracy: 0.7911\n",
      "Epoch 83/100\n",
      "14/14 [==============================] - 0s 5ms/step - loss: 0.6958 - accuracy: 0.8135 - val_loss: 0.6069 - val_accuracy: 0.7887\n",
      "Epoch 84/100\n",
      "14/14 [==============================] - 0s 5ms/step - loss: 0.6888 - accuracy: 0.8147 - val_loss: 0.6201 - val_accuracy: 0.7746\n",
      "Epoch 85/100\n",
      "14/14 [==============================] - 0s 4ms/step - loss: 0.6904 - accuracy: 0.8147 - val_loss: 0.6014 - val_accuracy: 0.7817\n",
      "Epoch 86/100\n",
      "14/14 [==============================] - 0s 4ms/step - loss: 0.6810 - accuracy: 0.8124 - val_loss: 0.6184 - val_accuracy: 0.7817\n",
      "Epoch 87/100\n",
      "14/14 [==============================] - 0s 5ms/step - loss: 0.6789 - accuracy: 0.8135 - val_loss: 0.5993 - val_accuracy: 0.7817\n",
      "Epoch 88/100\n",
      "14/14 [==============================] - 0s 4ms/step - loss: 0.6850 - accuracy: 0.8200 - val_loss: 0.6480 - val_accuracy: 0.7746\n",
      "Epoch 89/100\n",
      "14/14 [==============================] - 0s 4ms/step - loss: 0.6843 - accuracy: 0.8159 - val_loss: 0.5974 - val_accuracy: 0.7746\n",
      "Epoch 90/100\n",
      "14/14 [==============================] - 0s 5ms/step - loss: 0.6720 - accuracy: 0.8188 - val_loss: 0.6198 - val_accuracy: 0.8052\n",
      "Epoch 91/100\n",
      "14/14 [==============================] - 0s 4ms/step - loss: 0.6707 - accuracy: 0.8200 - val_loss: 0.6028 - val_accuracy: 0.7770\n",
      "Epoch 92/100\n",
      "14/14 [==============================] - 0s 4ms/step - loss: 0.6746 - accuracy: 0.8112 - val_loss: 0.5848 - val_accuracy: 0.7723\n",
      "Epoch 93/100\n",
      "14/14 [==============================] - 0s 4ms/step - loss: 0.6721 - accuracy: 0.8153 - val_loss: 0.5996 - val_accuracy: 0.7770\n",
      "Epoch 94/100\n",
      "14/14 [==============================] - 0s 4ms/step - loss: 0.6861 - accuracy: 0.8129 - val_loss: 0.5928 - val_accuracy: 0.7817\n",
      "Epoch 95/100\n",
      "14/14 [==============================] - 0s 5ms/step - loss: 0.6668 - accuracy: 0.8135 - val_loss: 0.5789 - val_accuracy: 0.7793\n",
      "Epoch 96/100\n",
      "14/14 [==============================] - 0s 5ms/step - loss: 0.6594 - accuracy: 0.8212 - val_loss: 0.5825 - val_accuracy: 0.7911\n",
      "Epoch 97/100\n",
      "14/14 [==============================] - 0s 5ms/step - loss: 0.6597 - accuracy: 0.8176 - val_loss: 0.5775 - val_accuracy: 0.7817\n",
      "Epoch 98/100\n",
      "14/14 [==============================] - 0s 4ms/step - loss: 0.6535 - accuracy: 0.8206 - val_loss: 0.5922 - val_accuracy: 0.8075\n",
      "Epoch 99/100\n",
      "14/14 [==============================] - 0s 4ms/step - loss: 0.6600 - accuracy: 0.8182 - val_loss: 0.5831 - val_accuracy: 0.7793\n",
      "Epoch 100/100\n",
      "14/14 [==============================] - 0s 4ms/step - loss: 0.6683 - accuracy: 0.8147 - val_loss: 0.6196 - val_accuracy: 0.7911\n"
     ]
    }
   ],
   "source": [
    "lrmodel.compile(optimizer=\"adam\", loss='sparse_categorical_crossentropy',\n",
    "              metrics=['accuracy'])\n",
    "hist = lrmodel.fit(x_train, y_train, batch_size=128, epochs=100, validation_data=(x_test, y_test))"
   ]
  },
  {
   "cell_type": "code",
   "execution_count": null,
   "metadata": {
    "colab": {
     "base_uri": "https://localhost:8080/",
     "height": 54
    },
    "colab_type": "code",
    "id": "R4IyVK3PwAl9",
    "outputId": "6f69f63f-f5fc-4605-9154-0d99c63a88e6"
   },
   "outputs": [
    {
     "name": "stdout",
     "output_type": "stream",
     "text": [
      "Accuracy of Bernoulli NB: 0.7981220657276995\n",
      "F-score of Bernoulli NB: 0.6426944668432366\n"
     ]
    }
   ],
   "source": [
    "y_pred = lrmodel.predict(x_test)\n",
    "y_pred = np.argmax(y_pred, axis=1)\n",
    "print(\"Accuracy of Bernoulli NB:\", metrics.accuracy_score(y_test, y_pred))\n",
    "print(\"F-score of Bernoulli NB:\", f1_score(y_test, y_pred, average='macro'))"
   ]
  },
  {
   "cell_type": "code",
   "execution_count": null,
   "metadata": {
    "colab": {
     "base_uri": "https://localhost:8080/",
     "height": 573
    },
    "colab_type": "code",
    "id": "Vg0jE2GqupLI",
    "outputId": "9cdea825-109c-45b1-bd17-008a5fe5ccaf"
   },
   "outputs": [
    {
     "data": {
      "image/png": "[encoded data removed]",
      "text/plain": [
       "<Figure size 432x288 with 1 Axes>"
      ]
     },
     "metadata": {
      "needs_background": "light",
      "tags": []
     },
     "output_type": "display_data"
    },
    {
     "data": {
      "image/png": "[encoded data removed]",
      "text/plain": [
       "<Figure size 432x288 with 1 Axes>"
      ]
     },
     "metadata": {
      "needs_background": "light",
      "tags": []
     },
     "output_type": "display_data"
    }
   ],
   "source": [
    "# Plot training & validation accuracy values\n",
    "plt.plot(hist.history['accuracy'])\n",
    "plt.plot(hist.history['val_accuracy'])\n",
    "plt.title('Model accuracy')\n",
    "plt.ylabel('Accuracy')\n",
    "plt.xlabel('Epoch')\n",
    "plt.legend(['Train', 'Test'], loc='upper left')\n",
    "plt.show()\n",
    "plt.figure()\n",
    "# Plot training & validation loss values\n",
    "plt.plot(hist.history['loss'])\n",
    "plt.plot(hist.history['val_loss'])\n",
    "plt.title('Model loss')\n",
    "plt.ylabel('Loss')\n",
    "plt.xlabel('Epoch')\n",
    "plt.legend(['Train', 'Test'], loc='upper left')\n",
    "plt.show()"
   ]
  },
  {
   "cell_type": "markdown",
   "metadata": {
    "colab_type": "text",
    "id": "aZeFEFV1vBE2"
   },
   "source": [
    "# Test of artificial data:"
   ]
  },
  {
   "cell_type": "code",
   "execution_count": 15,
   "metadata": {
    "colab": {},
    "colab_type": "code",
    "id": "Gx5zLf9cvAok"
   },
   "outputs": [],
   "source": [
    "# load data\n",
    "xls = pd.ExcelFile('../data_creation/artificial_FINAL.xlsx')\n",
    "data = pd.read_excel(xls, 'Sheet1')\n",
    "\n",
    "x_train, y_train, x_test, y_test = xls2df(data, 4055)\n",
    "y_train = y_train-1\n",
    "y_test = y_test - 1"
   ]
  },
  {
   "cell_type": "markdown",
   "metadata": {
    "colab_type": "text",
    "id": "4nyEzS10AvIJ"
   },
   "source": [
    "Normalize data:"
   ]
  },
  {
   "cell_type": "code",
   "execution_count": 16,
   "metadata": {
    "colab": {},
    "colab_type": "code",
    "id": "cAbjVBKY-ZM5"
   },
   "outputs": [],
   "source": [
    "x_train = (x_train - np.min(x_train))/(np.max(x_train) - np.min(x_train))\n",
    "x_test = (x_test - np.min(x_test))/(np.max(x_test) - np.min(x_test))"
   ]
  },
  {
   "cell_type": "code",
   "execution_count": 27,
   "metadata": {
    "colab": {},
    "colab_type": "code",
    "id": "LYnndBIsvJfP"
   },
   "outputs": [],
   "source": [
    "lrmodel1 = Sequential()\n",
    "\n",
    "lrmodel1.add(Dense(3, activation=\"softmax\"))"
   ]
  },
  {
   "cell_type": "code",
   "execution_count": 28,
   "metadata": {
    "colab": {
     "base_uri": "https://localhost:8080/",
     "height": 1000
    },
    "colab_type": "code",
    "id": "Zt3i_e1SvR-L",
    "outputId": "94af3475-cc31-4dd5-f49a-98c681918b8b"
   },
   "outputs": [
    {
     "name": "stdout",
     "output_type": "stream",
     "text": [
      "Epoch 1/120\n",
      "203/203 [==============================] - 1s 4ms/step - loss: 1.0695 - accuracy: 0.4420 - val_loss: 1.0413 - val_accuracy: 0.4895\n",
      "Epoch 2/120\n",
      "203/203 [==============================] - 1s 3ms/step - loss: 1.0229 - accuracy: 0.5388 - val_loss: 1.0003 - val_accuracy: 0.5499\n",
      "Epoch 3/120\n",
      "203/203 [==============================] - 1s 3ms/step - loss: 0.9861 - accuracy: 0.5786 - val_loss: 0.9670 - val_accuracy: 0.5869\n",
      "Epoch 4/120\n",
      "203/203 [==============================] - 1s 3ms/step - loss: 0.9530 - accuracy: 0.6042 - val_loss: 0.9339 - val_accuracy: 0.6017\n",
      "Epoch 5/120\n",
      "203/203 [==============================] - 1s 3ms/step - loss: 0.9229 - accuracy: 0.6168 - val_loss: 0.9056 - val_accuracy: 0.6054\n",
      "Epoch 6/120\n",
      "203/203 [==============================] - 1s 3ms/step - loss: 0.8957 - accuracy: 0.6242 - val_loss: 0.8776 - val_accuracy: 0.6289\n",
      "Epoch 7/120\n",
      "203/203 [==============================] - 1s 3ms/step - loss: 0.8706 - accuracy: 0.6501 - val_loss: 0.8563 - val_accuracy: 0.6215\n",
      "Epoch 8/120\n",
      "203/203 [==============================] - 1s 3ms/step - loss: 0.8483 - accuracy: 0.6415 - val_loss: 0.8322 - val_accuracy: 0.6375\n",
      "Epoch 9/120\n",
      "203/203 [==============================] - 1s 3ms/step - loss: 0.8271 - accuracy: 0.6631 - val_loss: 0.8111 - val_accuracy: 0.6769\n",
      "Epoch 10/120\n",
      "203/203 [==============================] - 1s 3ms/step - loss: 0.8077 - accuracy: 0.6871 - val_loss: 0.7931 - val_accuracy: 0.6683\n",
      "Epoch 11/120\n",
      "203/203 [==============================] - 1s 3ms/step - loss: 0.7897 - accuracy: 0.6822 - val_loss: 0.7742 - val_accuracy: 0.7164\n",
      "Epoch 12/120\n",
      "203/203 [==============================] - 1s 3ms/step - loss: 0.7730 - accuracy: 0.7167 - val_loss: 0.7589 - val_accuracy: 0.7053\n",
      "Epoch 13/120\n",
      "203/203 [==============================] - 1s 4ms/step - loss: 0.7572 - accuracy: 0.7090 - val_loss: 0.7427 - val_accuracy: 0.7275\n",
      "Epoch 14/120\n",
      "203/203 [==============================] - 1s 3ms/step - loss: 0.7426 - accuracy: 0.7275 - val_loss: 0.7284 - val_accuracy: 0.7497\n",
      "Epoch 15/120\n",
      "203/203 [==============================] - 1s 3ms/step - loss: 0.7289 - accuracy: 0.7330 - val_loss: 0.7151 - val_accuracy: 0.7448\n",
      "Epoch 16/120\n",
      "203/203 [==============================] - 1s 3ms/step - loss: 0.7161 - accuracy: 0.7478 - val_loss: 0.7030 - val_accuracy: 0.7571\n",
      "Epoch 17/120\n",
      "203/203 [==============================] - 1s 3ms/step - loss: 0.7040 - accuracy: 0.7546 - val_loss: 0.6916 - val_accuracy: 0.7497\n",
      "Epoch 18/120\n",
      "203/203 [==============================] - 1s 3ms/step - loss: 0.6927 - accuracy: 0.7565 - val_loss: 0.6800 - val_accuracy: 0.7620\n",
      "Epoch 19/120\n",
      "203/203 [==============================] - 1s 3ms/step - loss: 0.6818 - accuracy: 0.7639 - val_loss: 0.6708 - val_accuracy: 0.7608\n",
      "Epoch 20/120\n",
      "203/203 [==============================] - 1s 3ms/step - loss: 0.6718 - accuracy: 0.7676 - val_loss: 0.6597 - val_accuracy: 0.7719\n",
      "Epoch 21/120\n",
      "203/203 [==============================] - 1s 3ms/step - loss: 0.6622 - accuracy: 0.7694 - val_loss: 0.6515 - val_accuracy: 0.7694\n",
      "Epoch 22/120\n",
      "203/203 [==============================] - 1s 3ms/step - loss: 0.6531 - accuracy: 0.7796 - val_loss: 0.6411 - val_accuracy: 0.7855\n",
      "Epoch 23/120\n",
      "203/203 [==============================] - 1s 3ms/step - loss: 0.6444 - accuracy: 0.7864 - val_loss: 0.6332 - val_accuracy: 0.7781\n",
      "Epoch 24/120\n",
      "203/203 [==============================] - 1s 3ms/step - loss: 0.6361 - accuracy: 0.7867 - val_loss: 0.6260 - val_accuracy: 0.7744\n",
      "Epoch 25/120\n",
      "203/203 [==============================] - 1s 3ms/step - loss: 0.6281 - accuracy: 0.7851 - val_loss: 0.6169 - val_accuracy: 0.7904\n",
      "Epoch 26/120\n",
      "203/203 [==============================] - 1s 3ms/step - loss: 0.6206 - accuracy: 0.7928 - val_loss: 0.6093 - val_accuracy: 0.7953\n",
      "Epoch 27/120\n",
      "203/203 [==============================] - 1s 3ms/step - loss: 0.6136 - accuracy: 0.7935 - val_loss: 0.6023 - val_accuracy: 0.7978\n",
      "Epoch 28/120\n",
      "203/203 [==============================] - 1s 3ms/step - loss: 0.6065 - accuracy: 0.8015 - val_loss: 0.5962 - val_accuracy: 0.7904\n",
      "Epoch 29/120\n",
      "203/203 [==============================] - 1s 3ms/step - loss: 0.5999 - accuracy: 0.7990 - val_loss: 0.5889 - val_accuracy: 0.7990\n",
      "Epoch 30/120\n",
      "203/203 [==============================] - 1s 3ms/step - loss: 0.5936 - accuracy: 0.8052 - val_loss: 0.5840 - val_accuracy: 0.7928\n",
      "Epoch 31/120\n",
      "203/203 [==============================] - 1s 3ms/step - loss: 0.5878 - accuracy: 0.8015 - val_loss: 0.5778 - val_accuracy: 0.7965\n",
      "Epoch 32/120\n",
      "203/203 [==============================] - 1s 3ms/step - loss: 0.5821 - accuracy: 0.8073 - val_loss: 0.5723 - val_accuracy: 0.7978\n",
      "Epoch 33/120\n",
      "203/203 [==============================] - 1s 3ms/step - loss: 0.5767 - accuracy: 0.8080 - val_loss: 0.5663 - val_accuracy: 0.8027\n",
      "Epoch 34/120\n",
      "203/203 [==============================] - 1s 3ms/step - loss: 0.5713 - accuracy: 0.8092 - val_loss: 0.5614 - val_accuracy: 0.8027\n",
      "Epoch 35/120\n",
      "203/203 [==============================] - 1s 3ms/step - loss: 0.5661 - accuracy: 0.8058 - val_loss: 0.5560 - val_accuracy: 0.8064\n",
      "Epoch 36/120\n",
      "203/203 [==============================] - 1s 3ms/step - loss: 0.5615 - accuracy: 0.8135 - val_loss: 0.5516 - val_accuracy: 0.8052\n",
      "Epoch 37/120\n",
      "203/203 [==============================] - 1s 3ms/step - loss: 0.5569 - accuracy: 0.8107 - val_loss: 0.5475 - val_accuracy: 0.8064\n",
      "Epoch 38/120\n",
      "203/203 [==============================] - 1s 3ms/step - loss: 0.5523 - accuracy: 0.8160 - val_loss: 0.5438 - val_accuracy: 0.8027\n",
      "Epoch 39/120\n",
      "203/203 [==============================] - 1s 3ms/step - loss: 0.5479 - accuracy: 0.8113 - val_loss: 0.5385 - val_accuracy: 0.8113\n",
      "Epoch 40/120\n",
      "203/203 [==============================] - 1s 3ms/step - loss: 0.5441 - accuracy: 0.8169 - val_loss: 0.5343 - val_accuracy: 0.8101\n",
      "Epoch 41/120\n",
      "203/203 [==============================] - 1s 3ms/step - loss: 0.5400 - accuracy: 0.8187 - val_loss: 0.5309 - val_accuracy: 0.8126\n",
      "Epoch 42/120\n",
      "203/203 [==============================] - 1s 3ms/step - loss: 0.5363 - accuracy: 0.8184 - val_loss: 0.5273 - val_accuracy: 0.8126\n",
      "Epoch 43/120\n",
      "203/203 [==============================] - 1s 3ms/step - loss: 0.5326 - accuracy: 0.8212 - val_loss: 0.5237 - val_accuracy: 0.8113\n",
      "Epoch 44/120\n",
      "203/203 [==============================] - 1s 3ms/step - loss: 0.5288 - accuracy: 0.8178 - val_loss: 0.5199 - val_accuracy: 0.8126\n",
      "Epoch 45/120\n",
      "203/203 [==============================] - 1s 3ms/step - loss: 0.5254 - accuracy: 0.8215 - val_loss: 0.5161 - val_accuracy: 0.8187\n",
      "Epoch 46/120\n",
      "203/203 [==============================] - 1s 3ms/step - loss: 0.5223 - accuracy: 0.8255 - val_loss: 0.5135 - val_accuracy: 0.8126\n",
      "Epoch 47/120\n",
      "203/203 [==============================] - 1s 3ms/step - loss: 0.5189 - accuracy: 0.8231 - val_loss: 0.5101 - val_accuracy: 0.8163\n",
      "Epoch 48/120\n",
      "203/203 [==============================] - 1s 3ms/step - loss: 0.5158 - accuracy: 0.8227 - val_loss: 0.5065 - val_accuracy: 0.8212\n",
      "Epoch 49/120\n",
      "203/203 [==============================] - 1s 3ms/step - loss: 0.5128 - accuracy: 0.8258 - val_loss: 0.5041 - val_accuracy: 0.8175\n",
      "Epoch 50/120\n",
      "203/203 [==============================] - 1s 3ms/step - loss: 0.5099 - accuracy: 0.8298 - val_loss: 0.5012 - val_accuracy: 0.8187\n",
      "Epoch 51/120\n",
      "203/203 [==============================] - 1s 3ms/step - loss: 0.5070 - accuracy: 0.8308 - val_loss: 0.4984 - val_accuracy: 0.8212\n",
      "Epoch 52/120\n",
      "203/203 [==============================] - 1s 3ms/step - loss: 0.5044 - accuracy: 0.8264 - val_loss: 0.4956 - val_accuracy: 0.8224\n",
      "Epoch 53/120\n",
      "203/203 [==============================] - 1s 3ms/step - loss: 0.5017 - accuracy: 0.8292 - val_loss: 0.4930 - val_accuracy: 0.8224\n",
      "Epoch 54/120\n",
      "203/203 [==============================] - 1s 3ms/step - loss: 0.4993 - accuracy: 0.8311 - val_loss: 0.4905 - val_accuracy: 0.8237\n",
      "Epoch 55/120\n",
      "203/203 [==============================] - 1s 3ms/step - loss: 0.4968 - accuracy: 0.8283 - val_loss: 0.4879 - val_accuracy: 0.8237\n",
      "Epoch 56/120\n",
      "203/203 [==============================] - 1s 3ms/step - loss: 0.4944 - accuracy: 0.8323 - val_loss: 0.4856 - val_accuracy: 0.8237\n",
      "Epoch 57/120\n",
      "203/203 [==============================] - 1s 3ms/step - loss: 0.4918 - accuracy: 0.8305 - val_loss: 0.4830 - val_accuracy: 0.8224\n",
      "Epoch 58/120\n",
      "203/203 [==============================] - 1s 3ms/step - loss: 0.4896 - accuracy: 0.8375 - val_loss: 0.4816 - val_accuracy: 0.8237\n",
      "Epoch 59/120\n",
      "203/203 [==============================] - 1s 3ms/step - loss: 0.4875 - accuracy: 0.8326 - val_loss: 0.4800 - val_accuracy: 0.8212\n",
      "Epoch 60/120\n",
      "203/203 [==============================] - 1s 3ms/step - loss: 0.4854 - accuracy: 0.8329 - val_loss: 0.4770 - val_accuracy: 0.8237\n",
      "Epoch 61/120\n",
      "203/203 [==============================] - 1s 3ms/step - loss: 0.4832 - accuracy: 0.8326 - val_loss: 0.4747 - val_accuracy: 0.8224\n",
      "Epoch 62/120\n",
      "203/203 [==============================] - 1s 3ms/step - loss: 0.4813 - accuracy: 0.8363 - val_loss: 0.4733 - val_accuracy: 0.8249\n",
      "Epoch 63/120\n",
      "203/203 [==============================] - 1s 3ms/step - loss: 0.4794 - accuracy: 0.8363 - val_loss: 0.4708 - val_accuracy: 0.8224\n",
      "Epoch 64/120\n",
      "203/203 [==============================] - 1s 3ms/step - loss: 0.4776 - accuracy: 0.8369 - val_loss: 0.4693 - val_accuracy: 0.8237\n",
      "Epoch 65/120\n",
      "203/203 [==============================] - 1s 3ms/step - loss: 0.4756 - accuracy: 0.8348 - val_loss: 0.4671 - val_accuracy: 0.8237\n",
      "Epoch 66/120\n",
      "203/203 [==============================] - 1s 3ms/step - loss: 0.4738 - accuracy: 0.8372 - val_loss: 0.4658 - val_accuracy: 0.8261\n",
      "Epoch 67/120\n",
      "203/203 [==============================] - 1s 3ms/step - loss: 0.4719 - accuracy: 0.8363 - val_loss: 0.4633 - val_accuracy: 0.8274\n",
      "Epoch 68/120\n",
      "203/203 [==============================] - 1s 3ms/step - loss: 0.4699 - accuracy: 0.8406 - val_loss: 0.4628 - val_accuracy: 0.8286\n",
      "Epoch 69/120\n",
      "203/203 [==============================] - 1s 3ms/step - loss: 0.4686 - accuracy: 0.8366 - val_loss: 0.4601 - val_accuracy: 0.8237\n",
      "Epoch 70/120\n",
      "203/203 [==============================] - 1s 3ms/step - loss: 0.4667 - accuracy: 0.8416 - val_loss: 0.4590 - val_accuracy: 0.8286\n",
      "Epoch 71/120\n",
      "203/203 [==============================] - 1s 3ms/step - loss: 0.4653 - accuracy: 0.8357 - val_loss: 0.4567 - val_accuracy: 0.8274\n",
      "Epoch 72/120\n",
      "203/203 [==============================] - 1s 3ms/step - loss: 0.4639 - accuracy: 0.8397 - val_loss: 0.4552 - val_accuracy: 0.8286\n",
      "Epoch 73/120\n",
      "203/203 [==============================] - 1s 3ms/step - loss: 0.4621 - accuracy: 0.8400 - val_loss: 0.4537 - val_accuracy: 0.8274\n",
      "Epoch 74/120\n",
      "203/203 [==============================] - 1s 4ms/step - loss: 0.4606 - accuracy: 0.8431 - val_loss: 0.4520 - val_accuracy: 0.8286\n",
      "Epoch 75/120\n",
      "203/203 [==============================] - 1s 3ms/step - loss: 0.4590 - accuracy: 0.8425 - val_loss: 0.4512 - val_accuracy: 0.8286\n",
      "Epoch 76/120\n",
      "203/203 [==============================] - 1s 3ms/step - loss: 0.4577 - accuracy: 0.8412 - val_loss: 0.4494 - val_accuracy: 0.8286\n",
      "Epoch 77/120\n",
      "203/203 [==============================] - 1s 3ms/step - loss: 0.4564 - accuracy: 0.8440 - val_loss: 0.4482 - val_accuracy: 0.8311\n",
      "Epoch 78/120\n",
      "203/203 [==============================] - 1s 3ms/step - loss: 0.4549 - accuracy: 0.8428 - val_loss: 0.4472 - val_accuracy: 0.8311\n",
      "Epoch 79/120\n",
      "203/203 [==============================] - 1s 3ms/step - loss: 0.4534 - accuracy: 0.8422 - val_loss: 0.4454 - val_accuracy: 0.8311\n",
      "Epoch 80/120\n",
      "203/203 [==============================] - 1s 3ms/step - loss: 0.4520 - accuracy: 0.8440 - val_loss: 0.4441 - val_accuracy: 0.8311\n",
      "Epoch 81/120\n",
      "203/203 [==============================] - 1s 3ms/step - loss: 0.4507 - accuracy: 0.8425 - val_loss: 0.4438 - val_accuracy: 0.8298\n",
      "Epoch 82/120\n",
      "203/203 [==============================] - 1s 3ms/step - loss: 0.4495 - accuracy: 0.8437 - val_loss: 0.4411 - val_accuracy: 0.8298\n",
      "Epoch 83/120\n",
      "203/203 [==============================] - 1s 3ms/step - loss: 0.4482 - accuracy: 0.8446 - val_loss: 0.4401 - val_accuracy: 0.8323\n",
      "Epoch 84/120\n",
      "203/203 [==============================] - 1s 3ms/step - loss: 0.4469 - accuracy: 0.8453 - val_loss: 0.4391 - val_accuracy: 0.8311\n",
      "Epoch 85/120\n",
      "203/203 [==============================] - 1s 3ms/step - loss: 0.4458 - accuracy: 0.8462 - val_loss: 0.4375 - val_accuracy: 0.8323\n",
      "Epoch 86/120\n",
      "203/203 [==============================] - 1s 3ms/step - loss: 0.4445 - accuracy: 0.8474 - val_loss: 0.4370 - val_accuracy: 0.8311\n",
      "Epoch 87/120\n",
      "203/203 [==============================] - 1s 3ms/step - loss: 0.4435 - accuracy: 0.8437 - val_loss: 0.4350 - val_accuracy: 0.8323\n",
      "Epoch 88/120\n",
      "203/203 [==============================] - 1s 3ms/step - loss: 0.4422 - accuracy: 0.8480 - val_loss: 0.4342 - val_accuracy: 0.8323\n",
      "Epoch 89/120\n",
      "203/203 [==============================] - 1s 3ms/step - loss: 0.4411 - accuracy: 0.8490 - val_loss: 0.4332 - val_accuracy: 0.8323\n",
      "Epoch 90/120\n",
      "203/203 [==============================] - 1s 3ms/step - loss: 0.4401 - accuracy: 0.8480 - val_loss: 0.4321 - val_accuracy: 0.8323\n",
      "Epoch 91/120\n",
      "203/203 [==============================] - 1s 3ms/step - loss: 0.4390 - accuracy: 0.8471 - val_loss: 0.4310 - val_accuracy: 0.8323\n",
      "Epoch 92/120\n",
      "203/203 [==============================] - 1s 3ms/step - loss: 0.4378 - accuracy: 0.8505 - val_loss: 0.4299 - val_accuracy: 0.8323\n",
      "Epoch 93/120\n",
      "203/203 [==============================] - 1s 3ms/step - loss: 0.4368 - accuracy: 0.8483 - val_loss: 0.4286 - val_accuracy: 0.8335\n",
      "Epoch 94/120\n",
      "203/203 [==============================] - 1s 3ms/step - loss: 0.4358 - accuracy: 0.8508 - val_loss: 0.4281 - val_accuracy: 0.8311\n",
      "Epoch 95/120\n",
      "203/203 [==============================] - 1s 3ms/step - loss: 0.4348 - accuracy: 0.8499 - val_loss: 0.4270 - val_accuracy: 0.8311\n",
      "Epoch 96/120\n",
      "203/203 [==============================] - 1s 3ms/step - loss: 0.4336 - accuracy: 0.8468 - val_loss: 0.4256 - val_accuracy: 0.8360\n",
      "Epoch 97/120\n",
      "203/203 [==============================] - 1s 3ms/step - loss: 0.4327 - accuracy: 0.8520 - val_loss: 0.4251 - val_accuracy: 0.8311\n",
      "Epoch 98/120\n",
      "203/203 [==============================] - 1s 3ms/step - loss: 0.4319 - accuracy: 0.8499 - val_loss: 0.4239 - val_accuracy: 0.8335\n",
      "Epoch 99/120\n",
      "203/203 [==============================] - 1s 3ms/step - loss: 0.4307 - accuracy: 0.8490 - val_loss: 0.4228 - val_accuracy: 0.8372\n",
      "Epoch 100/120\n",
      "203/203 [==============================] - 1s 3ms/step - loss: 0.4299 - accuracy: 0.8496 - val_loss: 0.4219 - val_accuracy: 0.8385\n",
      "Epoch 101/120\n",
      "203/203 [==============================] - 1s 3ms/step - loss: 0.4290 - accuracy: 0.8523 - val_loss: 0.4215 - val_accuracy: 0.8323\n",
      "Epoch 102/120\n",
      "203/203 [==============================] - 1s 3ms/step - loss: 0.4281 - accuracy: 0.8511 - val_loss: 0.4204 - val_accuracy: 0.8360\n",
      "Epoch 103/120\n",
      "203/203 [==============================] - 1s 3ms/step - loss: 0.4272 - accuracy: 0.8508 - val_loss: 0.4192 - val_accuracy: 0.8360\n",
      "Epoch 104/120\n",
      "203/203 [==============================] - 1s 3ms/step - loss: 0.4261 - accuracy: 0.8496 - val_loss: 0.4185 - val_accuracy: 0.8335\n",
      "Epoch 105/120\n",
      "203/203 [==============================] - 1s 3ms/step - loss: 0.4254 - accuracy: 0.8523 - val_loss: 0.4179 - val_accuracy: 0.8323\n",
      "Epoch 106/120\n",
      "203/203 [==============================] - 1s 3ms/step - loss: 0.4245 - accuracy: 0.8520 - val_loss: 0.4172 - val_accuracy: 0.8348\n",
      "Epoch 107/120\n",
      "203/203 [==============================] - 1s 3ms/step - loss: 0.4234 - accuracy: 0.8527 - val_loss: 0.4170 - val_accuracy: 0.8323\n",
      "Epoch 108/120\n",
      "203/203 [==============================] - 1s 3ms/step - loss: 0.4232 - accuracy: 0.8499 - val_loss: 0.4153 - val_accuracy: 0.8360\n",
      "Epoch 109/120\n",
      "203/203 [==============================] - 1s 3ms/step - loss: 0.4221 - accuracy: 0.8520 - val_loss: 0.4147 - val_accuracy: 0.8372\n",
      "Epoch 110/120\n",
      "203/203 [==============================] - 1s 3ms/step - loss: 0.4212 - accuracy: 0.8514 - val_loss: 0.4135 - val_accuracy: 0.8385\n",
      "Epoch 111/120\n",
      "203/203 [==============================] - 1s 3ms/step - loss: 0.4205 - accuracy: 0.8536 - val_loss: 0.4130 - val_accuracy: 0.8348\n",
      "Epoch 112/120\n",
      "203/203 [==============================] - 1s 3ms/step - loss: 0.4197 - accuracy: 0.8508 - val_loss: 0.4119 - val_accuracy: 0.8422\n",
      "Epoch 113/120\n",
      "203/203 [==============================] - 1s 3ms/step - loss: 0.4189 - accuracy: 0.8533 - val_loss: 0.4114 - val_accuracy: 0.8397\n",
      "Epoch 114/120\n",
      "203/203 [==============================] - 1s 3ms/step - loss: 0.4183 - accuracy: 0.8548 - val_loss: 0.4108 - val_accuracy: 0.8348\n",
      "Epoch 115/120\n",
      "203/203 [==============================] - 1s 3ms/step - loss: 0.4173 - accuracy: 0.8523 - val_loss: 0.4098 - val_accuracy: 0.8409\n",
      "Epoch 116/120\n",
      "203/203 [==============================] - 1s 3ms/step - loss: 0.4171 - accuracy: 0.8511 - val_loss: 0.4091 - val_accuracy: 0.8409\n",
      "Epoch 117/120\n",
      "203/203 [==============================] - 1s 3ms/step - loss: 0.4161 - accuracy: 0.8564 - val_loss: 0.4084 - val_accuracy: 0.8409\n",
      "Epoch 118/120\n",
      "203/203 [==============================] - 1s 3ms/step - loss: 0.4153 - accuracy: 0.8517 - val_loss: 0.4077 - val_accuracy: 0.8409\n",
      "Epoch 119/120\n",
      "203/203 [==============================] - 1s 3ms/step - loss: 0.4147 - accuracy: 0.8533 - val_loss: 0.4073 - val_accuracy: 0.8372\n",
      "Epoch 120/120\n",
      "203/203 [==============================] - 1s 3ms/step - loss: 0.4139 - accuracy: 0.8548 - val_loss: 0.4063 - val_accuracy: 0.8434\n"
     ]
    }
   ],
   "source": [
    "lrmodel1.compile(optimizer=\"adam\", loss='sparse_categorical_crossentropy',\n",
    "              metrics=['accuracy'])\n",
    "hist1 = lrmodel1.fit(x_train, y_train, batch_size=16, epochs=120, validation_data=(x_test, y_test))"
   ]
  },
  {
   "cell_type": "code",
   "execution_count": 29,
   "metadata": {
    "colab": {
     "base_uri": "https://localhost:8080/",
     "height": 54
    },
    "colab_type": "code",
    "id": "QgLTetiMxYSX",
    "outputId": "41c56e8f-52dc-45ce-e729-34f502f410c7"
   },
   "outputs": [
    {
     "name": "stdout",
     "output_type": "stream",
     "text": [
      "Accuracy of Bernoulli NB: 0.843403205918619\n",
      "F-score of Bernoulli NB: 0.8367657639402063\n"
     ]
    }
   ],
   "source": [
    "y_pred = lrmodel1.predict(x_test)\n",
    "y_pred = np.argmax(y_pred, axis=1)\n",
    "print(\"Accuracy of Bernoulli NB:\", metrics.accuracy_score(y_test, y_pred))\n",
    "print(\"F-score of Bernoulli NB:\", f1_score(y_test, y_pred, average='macro'))"
   ]
  },
  {
   "cell_type": "code",
   "execution_count": 30,
   "metadata": {
    "colab": {
     "base_uri": "https://localhost:8080/",
     "height": 573
    },
    "colab_type": "code",
    "id": "BMbDkUHEvbSe",
    "outputId": "cb30a63e-f3b2-4e76-fc57-d3cd29e648e4"
   },
   "outputs": [
    {
     "data": {
      "image/png": "[encoded data removed]",
      "text/plain": [
       "<Figure size 432x288 with 1 Axes>"
      ]
     },
     "metadata": {
      "needs_background": "light",
      "tags": []
     },
     "output_type": "display_data"
    },
    {
     "data": {
      "image/png": "[encoded data removed]",
      "text/plain": [
       "<Figure size 432x288 with 1 Axes>"
      ]
     },
     "metadata": {
      "needs_background": "light",
      "tags": []
     },
     "output_type": "display_data"
    }
   ],
   "source": [
    "# Plot training & validation accuracy values\n",
    "plt.plot(hist1.history['accuracy'])\n",
    "plt.plot(hist1.history['val_accuracy'])\n",
    "plt.title('Model accuracy')\n",
    "plt.ylabel('Accuracy')\n",
    "plt.xlabel('Epoch')\n",
    "plt.legend(['Train', 'Test'], loc='upper left')\n",
    "plt.show()\n",
    "plt.figure()\n",
    "# Plot training & validation loss values\n",
    "plt.plot(hist1.history['loss'])\n",
    "plt.plot(hist1.history['val_loss'])\n",
    "plt.title('Model loss')\n",
    "plt.ylabel('Loss')\n",
    "plt.xlabel('Epoch')\n",
    "plt.legend(['Train', 'Test'], loc='upper left')\n",
    "plt.show()"
   ]
  }
 ],
 "metadata": {
  "accelerator": "GPU",
  "colab": {
   "collapsed_sections": [],
   "name": "LogisticRegressionTest.ipynb",
   "provenance": [],
   "toc_visible": true
  },
  "kernelspec": {
   "display_name": "Python 3",
   "language": "python",
   "name": "python3"
  },
  "language_info": {
   "codemirror_mode": {
    "name": "ipython",
    "version": 3
   },
   "file_extension": ".py",
   "mimetype": "text/x-python",
   "name": "python",
   "nbconvert_exporter": "python",
   "pygments_lexer": "ipython3",
   "version": "3.7.7"
  }
 },
 "nbformat": 4,
 "nbformat_minor": 1
}
